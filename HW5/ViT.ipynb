{
  "cells": [
    {
      "cell_type": "markdown",
      "metadata": {
        "id": "fEmVQAYoltr8"
      },
      "source": [
        "- Full Name: **`MohammadParsa Dini`**\n",
        "- Student ID: **`400101204`**"
      ]
    },
    {
      "cell_type": "markdown",
      "metadata": {
        "id": "UXHypU-altr-"
      },
      "source": [
        "# 🧠 Homework 4: Vision Transformer (ViT)\n",
        "\n",
        "## 📌 Objective\n",
        "In this assignment, you will **implement a Vision Transformer (ViT) from scratch** and gain a deep understanding of its core components. You will:\n",
        "\n",
        "- 🛠️ Complete all core blocks of the Vision Transformer model.\n",
        "- 🧪 Train the ViT on the CIFAR-10 image classification dataset.\n",
        "- 👁️ Visualize attention maps to interpret model behavior.\n",
        "- 📊 Analyze the effect of hyperparameters (e.g., patch size, depth, heads) on model performance.\n",
        "\n",
        "---\n",
        "\n",
        "## 📚 Learning Goals\n",
        "By the end of this assignment, you should be able to:\n",
        "- Explain the role of patch embeddings, self-attention, and MLP layers in ViT.\n",
        "- Implement Transformer blocks without relying on high-level libraries like Hugging Face Transformers.\n",
        "- Visualize self-attention maps to understand how ViT focuses on different parts of an image.\n",
        "- Experiment with architectural design choices and evaluate their effects.\n",
        "\n",
        "---\n",
        "\n",
        "## 🧪 Dataset\n",
        "We will use the **CIFAR-10** dataset, which consists of 60,000 32×32 color images in 10 classes, with 6,000 images per class. The dataset is split into 50,000 training and 10,000 test images.\n",
        "\n",
        "---\n",
        "\n",
        "## 🎯 Evaluation Criteria\n",
        "\n",
        "Your final submission will be evaluated based on:\n",
        "- ✅ Correct implementation of all model components.\n",
        "- ✅ Accuracy of the model on CIFAR-10 test set.\n",
        "- ✅ Insightfulness of attention visualizations.\n",
        "- ✅ Clarity of code and documentation.\n",
        "- ✅ Quality of hyperparameter analysis and discussion.\n",
        "\n",
        "\n",
        "\n"
      ]
    },
    {
      "cell_type": "code",
      "execution_count": 12,
      "metadata": {
        "id": "k-E0RjUZltr_"
      },
      "outputs": [],
      "source": [
        "# ===============================\n",
        "# 1.1 Setup & Imports\n",
        "# ===============================\n",
        "!pip install einops torch torchvision matplotlib seaborn --quiet"
      ]
    },
    {
      "cell_type": "code",
      "execution_count": 13,
      "metadata": {
        "colab": {
          "base_uri": "https://localhost:8080/"
        },
        "id": "irAu8k-JltsA",
        "outputId": "493908a5-0127-4423-bdf1-1ef43de4297c"
      },
      "outputs": [
        {
          "output_type": "stream",
          "name": "stdout",
          "text": [
            "Using cuda\n"
          ]
        }
      ],
      "source": [
        "import torch\n",
        "import torch.nn as nn\n",
        "import torchvision\n",
        "import torchvision.transforms as T\n",
        "import matplotlib.pyplot as plt\n",
        "import seaborn as sns\n",
        "from einops import rearrange, repeat\n",
        "from einops.layers.torch import Rearrange\n",
        "device = torch.device('cuda' if torch.cuda.is_available() else 'cpu')\n",
        "print('Using', device)\n"
      ]
    },
    {
      "cell_type": "code",
      "execution_count": 14,
      "metadata": {
        "id": "mKQnQDVpltsB"
      },
      "outputs": [],
      "source": [
        "import torchvision.datasets as datasets\n",
        "# ===============================\n",
        "# 1.2 Data Loading & Visualization\n",
        "# ===============================\n",
        "transform = T.Compose([\n",
        "    T.ToTensor(),\n",
        "    T.Normalize(mean=[0.4914, 0.4822, 0.4465], std=[0.2470, 0.2435, 0.2616])\n",
        "])\n",
        "\n",
        "## To Do: Load CIFAR10:\n",
        "train_ds = datasets.CIFAR10(root='./train',train=True,download=True, transform=transform)\n",
        "test_ds = datasets.CIFAR10(root='./test',train=False,download=True, transform=transform)\n",
        "\n",
        "train_loader = torch.utils.data.DataLoader(train_ds, batch_size=64, shuffle=True)\n",
        "test_loader = torch.utils.data.DataLoader(test_ds, batch_size=64, shuffle=False)\n"
      ]
    },
    {
      "cell_type": "code",
      "execution_count": 15,
      "metadata": {
        "colab": {
          "base_uri": "https://localhost:8080/",
          "height": 316
        },
        "id": "bvoKX-ZnltsB",
        "outputId": "c5ead8ea-7c5b-4a42-d3e0-c9c88b28f9f2"
      },
      "outputs": [
        {
          "output_type": "stream",
          "name": "stderr",
          "text": [
            "WARNING:matplotlib.image:Clipping input data to the valid range for imshow with RGB data ([0..1] for floats or [0..255] for integers). Got range [-1.9577202..2.1264887].\n",
            "WARNING:matplotlib.image:Clipping input data to the valid range for imshow with RGB data ([0..1] for floats or [0..255] for integers). Got range [-1.9158674..1.9359373].\n",
            "WARNING:matplotlib.image:Clipping input data to the valid range for imshow with RGB data ([0..1] for floats or [0..255] for integers). Got range [-1.9100897..2.1264887].\n",
            "WARNING:matplotlib.image:Clipping input data to the valid range for imshow with RGB data ([0..1] for floats or [0..255] for integers). Got range [-1.9894737..1.8688087].\n",
            "WARNING:matplotlib.image:Clipping input data to the valid range for imshow with RGB data ([0..1] for floats or [0..255] for integers). Got range [-1.9418434..2.011479].\n",
            "WARNING:matplotlib.image:Clipping input data to the valid range for imshow with RGB data ([0..1] for floats or [0..255] for integers). Got range [-1.4971374..1.9209466].\n",
            "WARNING:matplotlib.image:Clipping input data to the valid range for imshow with RGB data ([0..1] for floats or [0..255] for integers). Got range [-1.4810324..1.1065016].\n",
            "WARNING:matplotlib.image:Clipping input data to the valid range for imshow with RGB data ([0..1] for floats or [0..255] for integers). Got range [-0.91229695..1.4081607].\n"
          ]
        },
        {
          "output_type": "display_data",
          "data": {
            "text/plain": [
              "<Figure size 1500x200 with 8 Axes>"
            ],
            "image/png": "[encoded data removed]"
          },
          "metadata": {}
        }
      ],
      "source": [
        "import matplotlib.pyplot as plt\n",
        "\n",
        "## TO do: Visualize 8 images with their labels\n",
        "classes = train_ds.classes\n",
        "images, labels = next(iter(train_loader))\n",
        "fig, axes = plt.subplots(1, 8, figsize=(15, 2))\n",
        "for i in range(8):\n",
        "    img = images[i].permute(1, 2, 0).numpy()  # Convert to [H, W, C]\n",
        "    label = classes[labels[i]]\n",
        "    axes[i].imshow(img)\n",
        "    axes[i].set_title(f\"{label}\", fontsize=8)\n",
        "    axes[i].axis('off')\n",
        "plt.show()\n"
      ]
    },
    {
      "cell_type": "code",
      "execution_count": 16,
      "metadata": {
        "id": "sdmNszkkltsB"
      },
      "outputs": [],
      "source": [
        "# ===============================\n",
        "# 1.3 Helper: pair\n",
        "# ===============================\n",
        "def pair(t):\n",
        "    return t if isinstance(t, tuple) else (t, t)\n"
      ]
    },
    {
      "cell_type": "code",
      "execution_count": 17,
      "metadata": {
        "id": "PiF5QL7MltsC"
      },
      "outputs": [],
      "source": [
        "# ===============================\n",
        "# 1.4 FeedForward\n",
        "# ===============================\n",
        "## To Do: Complete the FeedForward module -> layer norm -> Linear -> GELU -> Dropout -> Linear -> Dropout\n",
        "class FeedForward(nn.Module):\n",
        "    def __init__(self, dim, hidden_dim, dropout=0.):\n",
        "        super().__init__()\n",
        "        self.net = nn.Sequential(\n",
        "            nn.LayerNorm(dim),\n",
        "            nn.Linear(dim, hidden_dim),\n",
        "            nn.GELU(),\n",
        "            nn.Dropout(dropout),\n",
        "            nn.Linear(hidden_dim, dim),\n",
        "            nn.Dropout(dropout)\n",
        "        )\n",
        "    def forward(self, x):\n",
        "        return self.net(x)\n"
      ]
    },
    {
      "cell_type": "code",
      "execution_count": 18,
      "metadata": {
        "id": "g2KLEE9NltsC"
      },
      "outputs": [],
      "source": [
        "\n",
        "# ===============================\n",
        "# 1.5 Attention\n",
        "# ===============================\n",
        "## ToDo: Complete the Attention module\n",
        "class Attention(nn.Module):\n",
        "    def __init__(self, dim, heads=8, dim_head=64, dropout=0.):\n",
        "        super().__init__()\n",
        "        inner_dim = heads * dim_head\n",
        "        self.heads = heads\n",
        "        self.scale = dim_head ** -0.5\n",
        "        ## layer norm\n",
        "        self.norm = nn.LayerNorm(dim)\n",
        "        self.to_qkv = nn.Linear(dim, inner_dim * 3, bias=False)\n",
        "        ## softmax\n",
        "        self.attend = nn.Softmax(dim=-1)\n",
        "        self.dropout = nn.Dropout(dropout)\n",
        "        self.to_out = nn.Sequential(\n",
        "            nn.Linear(inner_dim, dim),\n",
        "            nn.Dropout(dropout)\n",
        "        )\n",
        "\n",
        "    def forward(self, x):\n",
        "        x = self.norm(x)\n",
        "        q, k, v = self.to_qkv(x).chunk(3, dim=-1)\n",
        "        q = rearrange(q, 'b n (h d) -> b h n d', h=self.heads)\n",
        "        k = rearrange(k, 'b n (h d) -> b h n d', h=self.heads)\n",
        "        v = rearrange(v, 'b n (h d) -> b h n d', h=self.heads)\n",
        "\n",
        "        ## q, k multiplication\n",
        "        dots = torch.matmul(q, k.transpose(-1, -2)) * self.scale\n",
        "        ## softmax\n",
        "        attn = self.attend(dots)\n",
        "        ### dropout\n",
        "        attn = self.dropout(attn)\n",
        "        ## v multiplication\n",
        "        out = torch.matmul(attn, v)\n",
        "        out = rearrange(out, 'b h n d -> b n (h d)')\n",
        "        return self.to_out(out)\n"
      ]
    },
    {
      "cell_type": "code",
      "execution_count": 19,
      "metadata": {
        "id": "iOyvBx6TltsC"
      },
      "outputs": [],
      "source": [
        "\n",
        "# ===============================\n",
        "# 1.6 Transformer Block\n",
        "# ===============================\n",
        "## To Do: Complete the Transformer module\n",
        "class Transformer(nn.Module):\n",
        "    def __init__(self, dim, depth, heads, dim_head, mlp_dim, dropout=0.):\n",
        "        super().__init__()\n",
        "        self.layers = nn.ModuleList([\n",
        "            ## Attention + FeedForward\n",
        "            nn.ModuleList([\n",
        "                Attention(dim, heads=heads, dim_head=dim_head, dropout=dropout),\n",
        "                FeedForward(dim, hidden_dim=mlp_dim, dropout=dropout)\n",
        "            ]) for _ in range(depth)\n",
        "        ])\n",
        "        self.norm = nn.LayerNorm(dim)\n",
        "\n",
        "    def forward(self, x):\n",
        "        for attn, ff in self.layers:\n",
        "            ## To do: Normal Transformer forward, nothing weird\n",
        "            x = attn(x) + x     # Residual connection after attention\n",
        "            x = ff(x) + x       # Residual connection after feedforward\n",
        "        return self.norm(x)\n"
      ]
    },
    {
      "cell_type": "code",
      "execution_count": 24,
      "metadata": {
        "id": "sWeobYI9ltsD"
      },
      "outputs": [],
      "source": [
        "\n",
        "# ===============================\n",
        "# 1.7 ViT Model\n",
        "# ===============================\n",
        "class ViT(nn.Module):\n",
        "    def __init__(self, *, image_size, patch_size, num_classes,\n",
        "                 dim, depth, heads, mlp_dim,\n",
        "                 pool='cls', channels=3,\n",
        "                 dim_head=64, dropout=0., emb_dropout=0.):\n",
        "        super().__init__()\n",
        "        image_height, image_width = pair(image_size)\n",
        "        patch_height, patch_width = pair(patch_size)\n",
        "        assert image_height % patch_height == 0 and image_width % patch_width == 0\n",
        "\n",
        "        num_patches = (image_height // patch_height) * (image_width // patch_width)\n",
        "        patch_dim = channels * patch_height * patch_width\n",
        "\n",
        "        self.to_patch_embedding = nn.Sequential(\n",
        "            Rearrange('b c (h p1) (w p2) -> b (h w) (p1 p2 c)',\n",
        "                      p1=patch_height, p2=patch_width),\n",
        "            nn.Linear(patch_dim, dim)\n",
        "        )\n",
        "\n",
        "        self.pos_embedding = nn.Parameter(torch.randn(1, num_patches + 1, dim))\n",
        "        self.cls_token = nn.Parameter(torch.randn(1, 1, dim))\n",
        "        self.dropout = nn.Dropout(emb_dropout)\n",
        "\n",
        "        self.transformer = Transformer(dim, depth, heads, dim_head, mlp_dim, dropout)\n",
        "\n",
        "        self.pool = pool\n",
        "\n",
        "        self.mlp_head = nn.Sequential(\n",
        "            nn.LayerNorm(dim),\n",
        "            nn.Linear(dim, num_classes)\n",
        "        )\n",
        "\n",
        "    ## To do: complete the forward function\n",
        "    def forward(self, img):\n",
        "        x = self.to_patch_embedding(img)\n",
        "        b, n, _ = x.shape\n",
        "\n",
        "        cls_tokens = repeat(self.cls_token, '1 1 d -> b 1 d', b=b)\n",
        "        x = torch.cat((cls_tokens, x), dim=1)\n",
        "        x += self.pos_embedding[:, :x.size(1)]                # Add positional encoding\n",
        "        x = self.dropout(x)\n",
        "\n",
        "        x = self.transformer(x)                               # [b, n+1, dim]\n",
        "\n",
        "        x = x[:, 0] if self.pool == 'cls' else x.mean(dim=1)  # Pooling\n",
        "        return self.mlp_head(x)                               # Classification head\n"
      ]
    },
    {
      "cell_type": "code",
      "execution_count": 23,
      "metadata": {
        "id": "f1iw-rDzltsD"
      },
      "outputs": [],
      "source": [
        "\n",
        "# ===============================\n",
        "# 1.8 Training Loop & Visualization\n",
        "# ===============================\n",
        "## To do: Complete the training loop\n",
        "def train(model, epochs=10, lr=3e-4):\n",
        "    opt = torch.optim.Adam(model.parameters(), lr=lr)\n",
        "    loss_fn = nn.CrossEntropyLoss()\n",
        "\n",
        "    model.to(device)\n",
        "    losses = []\n",
        "    for epoch in range(epochs):\n",
        "        model.train()\n",
        "        total_loss = 0\n",
        "        for imgs, labels in train_loader:\n",
        "            ## Forward, loss and backward here\n",
        "            imgs, labels = imgs.to(device), labels.to(device)\n",
        "            preds = model(imgs)\n",
        "            loss = loss_fn(preds, labels)\n",
        "\n",
        "            opt.zero_grad()\n",
        "            loss.backward()\n",
        "            opt.step()\n",
        "\n",
        "            total_loss+= loss.item()\n",
        "\n",
        "        avg_loss = total_loss / len(train_loader)\n",
        "        losses.append(avg_loss)\n",
        "        print(f\"Epoch {epoch+1}/{epochs}, Loss: {avg_loss:.4f}\")\n",
        "\n",
        "    plt.plot(losses)\n",
        "    plt.title(\"Training Loss\")\n",
        "    plt.xlabel(\"Epoch\")\n",
        "    plt.ylabel(\"Loss\")\n",
        "    plt.show()\n",
        "\n",
        "    # Evaluate\n",
        "    model.eval()\n",
        "    correct = 0\n",
        "    total = 0\n",
        "    with torch.no_grad():\n",
        "        for imgs, labels in test_loader:\n",
        "            imgs, labels = imgs.to(device), labels.to(device)\n",
        "            preds = model(imgs).argmax(dim=1)\n",
        "            correct += (preds == labels).sum().item()\n",
        "            total += labels.size(0)\n",
        "    print(f\"Test Accuracy: {100 * correct / total:.2f}%\")\n",
        "\n"
      ]
    },
    {
      "cell_type": "code",
      "execution_count": 11,
      "metadata": {
        "id": "khVS2mBEltsE",
        "colab": {
          "base_uri": "https://localhost:8080/",
          "height": 836
        },
        "outputId": "05bf2017-c286-4301-950c-1d99f407c90b"
      },
      "outputs": [
        {
          "output_type": "stream",
          "name": "stdout",
          "text": [
            "Epoch 1/20, Loss: 1.6439\n",
            "Epoch 2/20, Loss: 1.3313\n",
            "Epoch 3/20, Loss: 1.2049\n",
            "Epoch 4/20, Loss: 1.1229\n",
            "Epoch 5/20, Loss: 1.0629\n",
            "Epoch 6/20, Loss: 1.0066\n",
            "Epoch 7/20, Loss: 0.9615\n",
            "Epoch 8/20, Loss: 0.9151\n",
            "Epoch 9/20, Loss: 0.8725\n",
            "Epoch 10/20, Loss: 0.8388\n",
            "Epoch 11/20, Loss: 0.8002\n",
            "Epoch 12/20, Loss: 0.7634\n",
            "Epoch 13/20, Loss: 0.7318\n",
            "Epoch 14/20, Loss: 0.7022\n",
            "Epoch 15/20, Loss: 0.6712\n",
            "Epoch 16/20, Loss: 0.6417\n",
            "Epoch 17/20, Loss: 0.6108\n",
            "Epoch 18/20, Loss: 0.5903\n",
            "Epoch 19/20, Loss: 0.5655\n",
            "Epoch 20/20, Loss: 0.5385\n"
          ]
        },
        {
          "output_type": "display_data",
          "data": {
            "text/plain": [
              "<Figure size 640x480 with 1 Axes>"
            ],
            "image/png": "[encoded data removed]"
          },
          "metadata": {}
        },
        {
          "output_type": "stream",
          "name": "stdout",
          "text": [
            "Test Accuracy: 66.54%\n"
          ]
        }
      ],
      "source": [
        "\n",
        "# ===============================\n",
        "# Run and enjoy!\n",
        "# ===============================\n",
        "model = ViT(\n",
        "    image_size=32, patch_size=4, num_classes=10,\n",
        "    dim=128, depth=6, heads=8, mlp_dim=256,\n",
        "    pool='cls', channels=3, dim_head=64,\n",
        "    dropout=0.1, emb_dropout=0.1\n",
        ")\n",
        "\n",
        "train(model, epochs=20)\n"
      ]
    },
    {
      "cell_type": "markdown",
      "metadata": {
        "id": "LUmeZZe5ltsE"
      },
      "source": [
        "---\n",
        "\n",
        "## 🧠 Bonus (Optional)\n",
        "- 🧩 Implement a variant of ViT using sinusoidal positional embeddings.\n",
        "- 🎨 Visualize per-head attention maps across different layers.\n",
        "- 🔁 Try training with different patch sizes and analyze effects.\n",
        "\n",
        "---"
      ]
    },
    {
      "cell_type": "markdown",
      "source": [
        "## Patch Size =2\n",
        "the patch size was decreased from 4 to 2, while the other parmas of model remained unchanged like number of heads in attn structure(`heads`),depth of the layers(`depth`) and `dim_head`:"
      ],
      "metadata": {
        "id": "GA9RJA5uNQDK"
      }
    },
    {
      "cell_type": "code",
      "source": [
        "model2 = ViT(\n",
        "    image_size=32, patch_size=2, num_classes=10,\n",
        "    dim=128, depth=6, heads=8, mlp_dim=256,\n",
        "    pool='cls', channels=3, dim_head=64,\n",
        "    dropout=0.1, emb_dropout=0.1\n",
        ")\n",
        "\n",
        "train(model2, epochs=20)"
      ],
      "metadata": {
        "colab": {
          "base_uri": "https://localhost:8080/"
        },
        "id": "Mo4OsdQMNHxA",
        "outputId": "27e35a13-e9b8-4a1c-c11f-bc71ad945dce"
      },
      "execution_count": null,
      "outputs": [
        {
          "metadata": {
            "tags": null
          },
          "name": "stdout",
          "output_type": "stream",
          "text": [
            "Epoch 1/20, Loss: 1.6948\n",
            "Epoch 2/20, Loss: 1.3586\n",
            "Epoch 3/20, Loss: 1.2293\n",
            "Epoch 4/20, Loss: 1.1448\n",
            "Epoch 5/20, Loss: 1.0705\n",
            "Epoch 6/20, Loss: 1.0110\n",
            "Epoch 7/20, Loss: 0.9505\n",
            "Epoch 8/20, Loss: 0.9086\n",
            "Epoch 9/20, Loss: 0.8613\n",
            "Epoch 10/20, Loss: 0.8220\n",
            "Epoch 11/20, Loss: 0.7775\n"
          ]
        }
      ]
    },
    {
      "cell_type": "markdown",
      "source": [
        "## Sinusoidal Positional Embedding VIT\n",
        "We can see that using sinusoidal positiona embeddings we elevated the accuracy from 64% to 70%"
      ],
      "metadata": {
        "id": "Ycw37HzPPPS8"
      }
    },
    {
      "cell_type": "code",
      "source": [
        "import math\n",
        "import torch\n",
        "import torch.nn as nn\n",
        "import torch.nn.functional as F\n",
        "from einops import rearrange, repeat\n",
        "import matplotlib.pyplot as plt\n",
        "\n",
        "# === Utility ===\n",
        "def pair(t):\n",
        "    return t if isinstance(t, tuple) else (t, t)\n",
        "\n",
        "def get_sinusoidal_positional_embedding(seq_len, dim, device):\n",
        "    pe = torch.zeros(seq_len, dim, device=device)\n",
        "    position = torch.arange(0, seq_len, dtype=torch.float, device=device).unsqueeze(1)\n",
        "    div_term = torch.exp(torch.arange(0, dim, 2, device=device).float() * (-math.log(10000.0) / dim))\n",
        "    pe[:, 0::2] = torch.sin(position * div_term)\n",
        "    pe[:, 1::2] = torch.cos(position * div_term)\n",
        "    return pe.unsqueeze(0)\n",
        "\n",
        "# === Modules ===\n",
        "class FeedForward(nn.Module):\n",
        "    def __init__(self, dim, hidden_dim, dropout=0.):\n",
        "        super().__init__()\n",
        "        self.net = nn.Sequential(\n",
        "            nn.LayerNorm(dim),\n",
        "            nn.Linear(dim, hidden_dim),\n",
        "            nn.GELU(),\n",
        "            nn.Dropout(dropout),\n",
        "            nn.Linear(hidden_dim, dim),\n",
        "            nn.Dropout(dropout)\n",
        "        )\n",
        "\n",
        "    def forward(self, x):\n",
        "        return self.net(x)\n",
        "\n",
        "class Attention(nn.Module):\n",
        "    def __init__(self, dim, heads=8, dim_head=64, dropout=0.):\n",
        "        super().__init__()\n",
        "        inner_dim = heads * dim_head\n",
        "        self.heads = heads\n",
        "        self.scale = dim_head ** -0.5\n",
        "\n",
        "        self.norm = nn.LayerNorm(dim)\n",
        "        self.to_qkv = nn.Linear(dim, inner_dim * 3, bias=False)\n",
        "        self.dropout = nn.Dropout(dropout)\n",
        "        self.to_out = nn.Linear(inner_dim, dim)\n",
        "\n",
        "    def forward(self, x, return_attn=False):\n",
        "        x = self.norm(x)\n",
        "        q, k, v = self.to_qkv(x).chunk(3, dim=-1)\n",
        "        q = rearrange(q, 'b n (h d) -> b h n d', h=self.heads)\n",
        "        k = rearrange(k, 'b n (h d) -> b h n d', h=self.heads)\n",
        "        v = rearrange(v, 'b n (h d) -> b h n d', h=self.heads)\n",
        "\n",
        "        dots = torch.matmul(q, k.transpose(-1, -2)) * self.scale\n",
        "        attn = torch.softmax(dots, dim=-1)\n",
        "        attn = self.dropout(attn)\n",
        "\n",
        "        out = torch.matmul(attn, v)\n",
        "        out = rearrange(out, 'b h n d -> b n (h d)')\n",
        "        if return_attn:\n",
        "            return self.to_out(out), attn\n",
        "        return self.to_out(out)\n",
        "\n",
        "class Transformer(nn.Module):\n",
        "    def __init__(self, dim, depth, heads, dim_head, mlp_dim, dropout=0.):\n",
        "        super().__init__()\n",
        "        self.layers = nn.ModuleList([\n",
        "            nn.ModuleList([\n",
        "                Attention(dim, heads, dim_head, dropout),\n",
        "                FeedForward(dim, mlp_dim, dropout)\n",
        "            ]) for _ in range(depth)\n",
        "        ])\n",
        "        self.norm = nn.LayerNorm(dim)\n",
        "\n",
        "    def forward(self, x):\n",
        "        for attn, ff in self.layers:\n",
        "            x = attn(x) + x\n",
        "            x = ff(x) + x\n",
        "        return self.norm(x)\n",
        "\n",
        "class ViT_Sin(nn.Module):\n",
        "    def __init__(self, *, image_size, patch_size, num_classes,\n",
        "                 dim, depth, heads, mlp_dim,\n",
        "                 pool='cls', channels=3,\n",
        "                 dim_head=64, dropout=0., emb_dropout=0.):\n",
        "        super().__init__()\n",
        "        image_height, image_width = pair(image_size)\n",
        "        patch_height, patch_width = pair(patch_size)\n",
        "        assert image_height % patch_height == 0 and image_width % patch_width == 0\n",
        "\n",
        "        num_patches = (image_height // patch_height) * (image_width // patch_width)\n",
        "        patch_dim = channels * patch_height * patch_width\n",
        "\n",
        "        self.to_patch_embedding = nn.Sequential(\n",
        "            Rearrange('b c (h p1) (w p2) -> b (h w) (p1 p2 c)',\n",
        "                      p1=patch_height, p2=patch_width),\n",
        "            nn.Linear(patch_dim, dim)\n",
        "        )\n",
        "\n",
        "        self.cls_token = nn.Parameter(torch.randn(1, 1, dim))\n",
        "        \"\"\"\n",
        "        HERE IS THE SINUSOIDAL POSITIONAL EMBEDDINGS\n",
        "        \"\"\"\n",
        "        self.pos_embedding = get_sinusoidal_positional_embedding(num_patches + 1, dim, device='cpu')\n",
        "        self.pos_embedding.requires_grad = False\n",
        "\n",
        "        self.dropout = nn.Dropout(emb_dropout)\n",
        "\n",
        "        self.transformer = Transformer(dim, depth, heads, dim_head, mlp_dim, dropout)\n",
        "        self.pool = pool\n",
        "        self.mlp_head = nn.Sequential(\n",
        "            nn.LayerNorm(dim),\n",
        "            nn.Linear(dim, num_classes)\n",
        "        )\n",
        "\n",
        "    def forward(self, img):\n",
        "        x = self.to_patch_embedding(img)\n",
        "        b, n, _ = x.shape\n",
        "\n",
        "        cls_tokens = repeat(self.cls_token, '1 1 d -> b 1 d', b=b)\n",
        "        x = torch.cat((cls_tokens, x), dim=1)\n",
        "        x = x + self.pos_embedding[:, :x.size(1)].to(x.device)\n",
        "        x = self.dropout(x)\n",
        "\n",
        "        x = self.transformer(x)\n",
        "\n",
        "        x = x[:, 0] if self.pool == 'cls' else x.mean(dim=1)\n",
        "        return self.mlp_head(x)\n",
        "\n",
        "# === Visualization ===\n",
        "def visualize_attention(model, image_tensor, layer_idx=0, head_idx=0):\n",
        "    model.eval()\n",
        "    image_tensor = image_tensor.unsqueeze(0).to(next(model.parameters()).device)\n",
        "    with torch.no_grad():\n",
        "        x = model.to_patch_embedding(image_tensor)\n",
        "        b, n, _ = x.shape\n",
        "        cls_tokens = repeat(model.cls_token, '1 1 d -> b 1 d', b=b)\n",
        "        x = torch.cat((cls_tokens, x), dim=1)\n",
        "        x += model.pos_embedding[:, :x.size(1)].to(x.device)\n",
        "        x = model.dropout(x)\n",
        "\n",
        "        for i, (attn_layer, ff) in enumerate(model.transformer.layers):\n",
        "            if i == layer_idx:\n",
        "                x = attn_layer.norm(x)\n",
        "                q, k, v = attn_layer.to_qkv(x).chunk(3, dim=-1)\n",
        "                q = rearrange(q, 'b n (h d) -> b h n d', h=attn_layer.heads)\n",
        "                k = rearrange(k, 'b n (h d) -> b h n d', h=attn_layer.heads)\n",
        "                dots = torch.matmul(q, k.transpose(-1, -2)) * attn_layer.scale\n",
        "                attn = torch.softmax(dots, dim=-1)\n",
        "\n",
        "                cls_attn = attn[0, head_idx, 0, 1:].reshape(4, 4).cpu()\n",
        "                plt.imshow(cls_attn, cmap='viridis')\n",
        "                plt.title(f\"Layer {i}, Head {head_idx} Attention\")\n",
        "                plt.colorbar()\n",
        "                plt.show()\n",
        "                break\n",
        "            else:\n",
        "                x = attn_layer(x) + x\n",
        "                x = ff(x) + x\n",
        "\n",
        "\n",
        "\n",
        "\n",
        "# ===============================\n",
        "# Run and enjoy!\n",
        "# ===============================\n",
        "model = ViT_Sin(\n",
        "    image_size=32, patch_size=4, num_classes=10,\n",
        "    dim=128, depth=6, heads=8, mlp_dim=256,\n",
        "    pool='cls', channels=3, dim_head=64,\n",
        "    dropout=0.1, emb_dropout=0.1\n",
        ")\n",
        "\n",
        "train(model, epochs=20)"
      ],
      "metadata": {
        "colab": {
          "base_uri": "https://localhost:8080/",
          "height": 836
        },
        "id": "F6IEICMxOIN2",
        "outputId": "220e1c14-083f-48ac-bfa9-3d2d38a129eb"
      },
      "execution_count": 27,
      "outputs": [
        {
          "output_type": "stream",
          "name": "stdout",
          "text": [
            "Epoch 1/20, Loss: 1.5860\n",
            "Epoch 2/20, Loss: 1.2462\n",
            "Epoch 3/20, Loss: 1.1055\n",
            "Epoch 4/20, Loss: 1.0158\n",
            "Epoch 5/20, Loss: 0.9487\n",
            "Epoch 6/20, Loss: 0.8906\n",
            "Epoch 7/20, Loss: 0.8442\n",
            "Epoch 8/20, Loss: 0.7964\n",
            "Epoch 9/20, Loss: 0.7519\n",
            "Epoch 10/20, Loss: 0.7115\n",
            "Epoch 11/20, Loss: 0.6721\n",
            "Epoch 12/20, Loss: 0.6336\n",
            "Epoch 13/20, Loss: 0.5998\n",
            "Epoch 14/20, Loss: 0.5643\n",
            "Epoch 15/20, Loss: 0.5293\n",
            "Epoch 16/20, Loss: 0.4952\n",
            "Epoch 17/20, Loss: 0.4670\n",
            "Epoch 18/20, Loss: 0.4341\n",
            "Epoch 19/20, Loss: 0.4109\n",
            "Epoch 20/20, Loss: 0.3912\n"
          ]
        },
        {
          "output_type": "display_data",
          "data": {
            "text/plain": [
              "<Figure size 640x480 with 1 Axes>"
            ],
            "image/png": "[encoded data removed]"
          },
          "metadata": {}
        },
        {
          "output_type": "stream",
          "name": "stdout",
          "text": [
            "Test Accuracy: 70.50%\n"
          ]
        }
      ]
    },
    {
      "cell_type": "code",
      "source": [
        "visualize_attention"
      ],
      "metadata": {
        "id": "2ve7n7TgTwvs"
      },
      "execution_count": null,
      "outputs": []
    }
  ],
  "metadata": {
    "kernelspec": {
      "display_name": "Python 3",
      "name": "python3"
    },
    "language_info": {
      "codemirror_mode": {
        "name": "ipython",
        "version": 3
      },
      "file_extension": ".py",
      "mimetype": "text/x-python",
      "name": "python",
      "nbconvert_exporter": "python",
      "pygments_lexer": "ipython3",
      "version": "3.12.4"
    },
    "colab": {
      "provenance": [],
      "gpuType": "T4"
    },
    "accelerator": "GPU"
  },
  "nbformat": 4,
  "nbformat_minor": 0
}