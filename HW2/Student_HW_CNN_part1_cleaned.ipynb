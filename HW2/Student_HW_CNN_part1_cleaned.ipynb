{
 "cells": [
  {
   "cell_type": "markdown",
   "metadata": {},
   "source": [
    "# Personal Info"
   ]
  },
  {
   "cell_type": "markdown",
   "metadata": {},
   "source": [
    "### Name: `Mohammad Parsa Dini`\n",
    "\n",
    "Student Number: `400101204`"
   ]
  },
  {
   "cell_type": "markdown",
   "metadata": {
    "id": "ezCpyvWuDV8R"
   },
   "source": [
    "# Introduction\n",
    "\n",
    "* Importing libraries\n",
    "\n",
    "* Helper functions\n",
    "\n",
    "* Plotting functions\n",
    "\n",
    "* Set seed and set device"
   ]
  },
  {
   "cell_type": "markdown",
   "metadata": {
    "id": "wT6AGnZC0R6j"
   },
   "source": [
    "## Libraries\n",
    "\n",
    "First, let's download the necessary libraries that are used throughout the assignment."
   ]
  },
  {
   "cell_type": "code",
   "execution_count": 1,
   "metadata": {
    "id": "MRh3pWSc0N3d"
   },
   "outputs": [
    {
     "name": "stdout",
     "output_type": "stream",
     "text": [
      "cuda\n"
     ]
    }
   ],
   "source": [
    "import time\n",
    "import torch\n",
    "import scipy.signal\n",
    "import numpy as np\n",
    "import matplotlib.pyplot as plt\n",
    "\n",
    "import torch.nn as nn\n",
    "import torch.nn.functional as F\n",
    "\n",
    "import torchvision.transforms as transforms\n",
    "import torchvision.datasets as datasets\n",
    "from torch.utils.data import DataLoader\n",
    "\n",
    "from tqdm.notebook import tqdm, trange\n",
    "from PIL import Image\n",
    "import requests, os\n",
    "import random\n",
    "\n",
    "if torch.cuda.is_available():\n",
    "    torch.device = 'cuda'\n",
    "else:\n",
    "    torch.device = 'cpu'\n",
    "\n",
    "print(torch.device)"
   ]
  },
  {
   "cell_type": "markdown",
   "metadata": {
    "id": "7zbHOFOL0uxT"
   },
   "source": [
    "## Helper Functioins"
   ]
  },
  {
   "cell_type": "code",
   "execution_count": 3,
   "metadata": {
    "id": "V-epTjVD0wRq"
   },
   "outputs": [],
   "source": [
    "from scipy.signal import correlate2d\n",
    "import zipfile, gzip, shutil, tarfile\n",
    "\n",
    "\n",
    "def download_data(fname, folder, url, tar):\n",
    "  \"\"\"\n",
    "  Data downloading from OSF.\n",
    "\n",
    "  Args:\n",
    "    fname : str\n",
    "      The name of the archive\n",
    "    folder : str\n",
    "      The name of the destination folder\n",
    "    url : str\n",
    "      The download url\n",
    "    tar : boolean\n",
    "      `tar=True` the archive is `fname`.tar.gz, `tar=False` is `fname`.zip\n",
    "\n",
    "  Returns:\n",
    "    Nothing.\n",
    "  \"\"\"\n",
    "\n",
    "  if not os.path.exists(folder):\n",
    "    print(f'\\nDownloading {folder} dataset...')\n",
    "    r = requests.get(url, allow_redirects=True)\n",
    "    with open(fname, 'wb') as fh:\n",
    "      fh.write(r.content)\n",
    "    print(f'\\nDownloading {folder} completed.')\n",
    "\n",
    "    print('\\nExtracting the files...\\n')\n",
    "    if not tar:\n",
    "      with zipfile.ZipFile(fname, 'r') as fz:\n",
    "        fz.extractall()\n",
    "    else:\n",
    "      with tarfile.open(fname) as ft:\n",
    "        ft.extractall()\n",
    "    # Remove the archive\n",
    "    os.remove(fname)\n",
    "\n",
    "    # Extract all .gz files\n",
    "    foldername = folder + '/raw/'\n",
    "    for filename in os.listdir(foldername):\n",
    "      # Remove the extension\n",
    "      fname = filename.replace('.gz', '')\n",
    "      # Gunzip all files\n",
    "      with gzip.open(foldername + filename, 'rb') as f_in:\n",
    "        with open(foldername + fname, 'wb') as f_out:\n",
    "          shutil.copyfileobj(f_in, f_out)\n",
    "          os.remove(foldername+filename)\n",
    "  else:\n",
    "    print(f'{folder} dataset has already been downloaded.\\n')\n",
    "  \n",
    "\n",
    "def test(model, device, data_loader):\n",
    "  \"\"\"\n",
    "  Test function\n",
    "\n",
    "  Args:\n",
    "    net: nn.module\n",
    "      Net instance\n",
    "    device: string\n",
    "      GPU/CUDA if available, CPU otherwise.\n",
    "    data_loader: torch.loader\n",
    "      Test loader\n",
    "\n",
    "  Returns:\n",
    "    acc: float\n",
    "      Test accuracy\n",
    "  \"\"\"\n",
    "  model.eval()\n",
    "  correct = 0\n",
    "  total = 0\n",
    "  for data in data_loader:\n",
    "    inputs, labels = data\n",
    "    inputs = inputs.to(device).float()\n",
    "    labels = labels.to(device).long()\n",
    "\n",
    "    outputs = model(inputs)\n",
    "    _, predicted = torch.max(outputs, 1)\n",
    "    total += labels.size(0)\n",
    "    correct += (predicted == labels).sum().item()\n",
    "\n",
    "  acc = 100 * correct / total\n",
    "  return f\"{acc}%\""
   ]
  },
  {
   "cell_type": "markdown",
   "metadata": {
    "id": "uuBjTiYn0xGR"
   },
   "source": [
    "## Plotting Functions"
   ]
  },
  {
   "cell_type": "code",
   "execution_count": 2,
   "metadata": {
    "id": "jwKMz8q401hp"
   },
   "outputs": [],
   "source": [
    "def display_image_from_greyscale_array(matrix, title):\n",
    "  \"\"\"\n",
    "  Display image from greyscale array\n",
    "\n",
    "  Args:\n",
    "    matrix: np.ndarray\n",
    "      Image\n",
    "    title: string\n",
    "      Title of plot\n",
    "\n",
    "  Returns:\n",
    "    Nothing\n",
    "  \"\"\"\n",
    "  _matrix = matrix.astype(np.uint8)\n",
    "  _img = Image.fromarray(_matrix, 'L')\n",
    "  plt.figure(figsize=(3, 3))\n",
    "  plt.imshow(_img, cmap='gray', vmin=0, vmax=255) # Using 220 instead of 255 so the examples show up better\n",
    "  plt.title(title)\n",
    "  plt.axis('off')\n",
    "\n",
    "\n",
    "def make_plots(original, actual_convolution, solution):\n",
    "  \"\"\"\n",
    "  Function to build original image/obtained solution and actual convolution\n",
    "\n",
    "  Args:\n",
    "    original: np.ndarray\n",
    "      Image\n",
    "    actual_convolution: np.ndarray\n",
    "      Expected convolution output\n",
    "    solution: np.ndarray\n",
    "      Obtained convolution output\n",
    "\n",
    "  Returns:\n",
    "    Nothing\n",
    "  \"\"\"\n",
    "  display_image_from_greyscale_array(original, \"Original Image\")\n",
    "  display_image_from_greyscale_array(actual_convolution, \"Convolution result\")\n",
    "  display_image_from_greyscale_array(solution, \"Your solution\")\n",
    "\n",
    "\n",
    "def plot_loss_accuracy(train_loss, train_acc,\n",
    "                       validation_loss, validation_acc):\n",
    "  \"\"\"\n",
    "  Code to plot loss and accuracy\n",
    "\n",
    "  Args:\n",
    "    train_loss: list\n",
    "      Log of training loss\n",
    "    validation_loss: list\n",
    "      Log of validation loss\n",
    "    train_acc: list\n",
    "      Log of training accuracy\n",
    "    validation_acc: list\n",
    "      Log of validation accuracy\n",
    "\n",
    "  Returns:\n",
    "    Nothing\n",
    "  \"\"\"\n",
    "  epochs = len(train_loss)\n",
    "  fig, (ax1, ax2) = plt.subplots(1, 2)\n",
    "  ax1.plot(list(range(epochs)), train_loss, label='Training Loss')\n",
    "  ax1.plot(list(range(epochs)), validation_loss, label='Validation Loss')\n",
    "  ax1.set_xlabel('Epochs')\n",
    "  ax1.set_ylabel('Loss')\n",
    "  ax1.set_title('Epoch vs Loss')\n",
    "  ax1.legend()\n",
    "\n",
    "  ax2.plot(list(range(epochs)), train_acc, label='Training Accuracy')\n",
    "  ax2.plot(list(range(epochs)), validation_acc, label='Validation Accuracy')\n",
    "  ax2.set_xlabel('Epochs')\n",
    "  ax2.set_ylabel('Accuracy')\n",
    "  ax2.set_title('Epoch vs Accuracy')\n",
    "  ax2.legend()\n",
    "  fig.set_size_inches(15.5, 5.5)"
   ]
  },
  {
   "cell_type": "markdown",
   "metadata": {
    "id": "s1sLVmlC1Qm3"
   },
   "source": [
    "## Set Random Seed and Set Device"
   ]
  },
  {
   "cell_type": "code",
   "execution_count": 4,
   "metadata": {
    "id": "y9UOSLTf1VG2"
   },
   "outputs": [],
   "source": [
    "# For DL it's important to set the random seed so that you can have a\n",
    "# baseline to compare your results to expected results.\n",
    "# Read more here: https://pytorch.org/docs/stable/notes/randomness.html\n",
    "\n",
    "def set_seed(seed=None, seed_torch=True):\n",
    "  \"\"\"\n",
    "  Function that controls randomness.\n",
    "  NumPy and random modules must be imported.\n",
    "\n",
    "  Args:\n",
    "    seed : Integer\n",
    "      A non-negative integer that defines the random state. Default is `None`.\n",
    "    seed_torch : Boolean\n",
    "      If `True` sets the random seed for pytorch tensors, so pytorch module\n",
    "      must be imported. Default is `True`.\n",
    "\n",
    "  Returns:\n",
    "    Nothing.\n",
    "  \"\"\"\n",
    "  if seed is None:\n",
    "    seed = np.random.choice(2 ** 32)\n",
    "  random.seed(seed)\n",
    "  np.random.seed(seed)\n",
    "  if seed_torch:\n",
    "    torch.manual_seed(seed)\n",
    "    torch.cuda.manual_seed_all(seed)\n",
    "    torch.cuda.manual_seed(seed)\n",
    "    torch.backends.cudnn.benchmark = False\n",
    "    torch.backends.cudnn.deterministic = True\n",
    "\n",
    "  print(f'Random seed {seed} has been set.')\n",
    "\n",
    "\n",
    "# In case that `DataLoader` is used\n",
    "def seed_worker(worker_id):\n",
    "  \"\"\"\n",
    "  DataLoader will reseed workers following randomness in\n",
    "  multi-process data loading algorithm.\n",
    "\n",
    "  Args:\n",
    "    worker_id: integer\n",
    "      ID of subprocess to seed. 0 means that\n",
    "      the data will be loaded in the main process\n",
    "      Refer: https://pytorch.org/docs/stable/data.html#data-loading-randomness for more details\n",
    "\n",
    "  Returns:\n",
    "    Nothing\n",
    "  \"\"\"\n",
    "  worker_seed = torch.initial_seed() % 2**32\n",
    "  np.random.seed(worker_seed)\n",
    "  random.seed(worker_seed)"
   ]
  },
  {
   "cell_type": "code",
   "execution_count": 5,
   "metadata": {
    "id": "7-i7bxMq1jRl"
   },
   "outputs": [],
   "source": [
    "# using this function, you can be informed whether the notebook uses GPU or CPU.\n",
    "\n",
    "def set_device():\n",
    "  \"\"\"\n",
    "  Set the device. CUDA if available, CPU otherwise\n",
    "\n",
    "  Args:\n",
    "    None\n",
    "\n",
    "  Returns:\n",
    "    Nothing\n",
    "  \"\"\"\n",
    "  device = \"cuda\" if torch.cuda.is_available() else \"cpu\"\n",
    "  if device != \"cuda\":\n",
    "    print(\"WARNING: For this notebook to perform best, \"\n",
    "        \"if possible, in the menu under `Runtime` -> \"\n",
    "        \"`Change runtime type.`  select `GPU` \")\n",
    "  else:\n",
    "    print(\"GPU is enabled in this notebook.\")\n",
    "\n",
    "  return device"
   ]
  },
  {
   "cell_type": "code",
   "execution_count": 6,
   "metadata": {
    "colab": {
     "base_uri": "https://localhost:8080/"
    },
    "executionInfo": {
     "elapsed": 6,
     "status": "ok",
     "timestamp": 1742719766346,
     "user": {
      "displayName": "Amir Sadra Khodadadi",
      "userId": "15849954129266561906"
     },
     "user_tz": -210
    },
    "id": "eZUdMmi31nEH",
    "outputId": "57d5b18f-73fb-4507-a950-68847676339e"
   },
   "outputs": [
    {
     "name": "stdout",
     "output_type": "stream",
     "text": [
      "Random seed 1404 has been set.\n",
      "GPU is enabled in this notebook.\n"
     ]
    }
   ],
   "source": [
    "SEED = 1404\n",
    "set_seed(seed=SEED)\n",
    "DEVICE = set_device()"
   ]
  },
  {
   "cell_type": "markdown",
   "metadata": {
    "id": "7TZb9dVw-X74"
   },
   "source": [
    "# Download EMNIST dataset\n",
    "\n",
    "* For this assignment, we will use the EMNIST letters dataset, which consists of binarized images of handwritten characters.\n",
    "\n",
    "* We only keep the images that correspond to **X** and **O**. Then, we will train a CNN to classify an image as either an **X** or an **O**."
   ]
  },
  {
   "cell_type": "code",
   "execution_count": 7,
   "metadata": {},
   "outputs": [
    {
     "name": "stdout",
     "output_type": "stream",
     "text": [
      "Training data shape: (697932, 28, 28, 1)\n",
      "Training labels shape: (697932,)\n",
      "Test data shape: (116323, 28, 28, 1)\n",
      "Test labels shape: (116323,)\n",
      "\n",
      "Dataset Info:\n",
      "Number of classes: 62\n",
      "Class names: ['0', '1', '2', '3', '4', '5', '6', '7', '8', '9', '10', '11', '12', '13', '14', '15', '16', '17', '18', '19', '20', '21', '22', '23', '24', '25', '26', '27', '28', '29', '30', '31', '32', '33', '34', '35', '36', '37', '38', '39', '40', '41', '42', '43', '44', '45', '46', '47', '48', '49', '50', '51', '52', '53', '54', '55', '56', '57', '58', '59', '60', '61']\n"
     ]
    }
   ],
   "source": [
    "try:\n",
    "    import tensorflow_datasets as tfds\n",
    "except ModuleNotFoundError:\n",
    "    !pip install tensorflow_datasets\n",
    "    import tensorflow_datasets as tfds\n",
    "\n",
    "import tensorflow as tf\n",
    "import numpy as np\n",
    "\n",
    "# Download and load EMNIST dataset\n",
    "# 'byclass' split contains all characters (digits and letters)\n",
    "(ds_train, ds_test), ds_info = tfds.load(\n",
    "    'emnist/byclass',\n",
    "    split=['train', 'test'],\n",
    "    as_supervised=True,  # Returns tuple (image, label)\n",
    "    with_info=True,      # Returns dataset info\n",
    ")\n",
    "\n",
    "# Function to convert dataset to numpy arrays (optional, if you need numpy format)\n",
    "def extract_data(dataset):\n",
    "    images = []\n",
    "    labels = []\n",
    "    for image, label in tfds.as_numpy(dataset):\n",
    "        images.append(image)\n",
    "        labels.append(label)\n",
    "    return np.array(images), np.array(labels)\n",
    "\n",
    "# Extract training and test data\n",
    "train_images, train_labels = extract_data(ds_train)\n",
    "test_images, test_labels = extract_data(ds_test)\n",
    "\n",
    "# Print dataset shapes\n",
    "print(f\"Training data shape: {train_images.shape}\")\n",
    "print(f\"Training labels shape: {train_labels.shape}\")\n",
    "print(f\"Test data shape: {test_images.shape}\")\n",
    "print(f\"Test labels shape: {test_labels.shape}\")\n",
    "\n",
    "# Dataset info\n",
    "print(\"\\nDataset Info:\")\n",
    "print(f\"Number of classes: {ds_info.features['label'].num_classes}\")\n",
    "print(f\"Class names: {ds_info.features['label'].names}\")"
   ]
  },
  {
   "cell_type": "markdown",
   "metadata": {
    "id": "l-UnjocT_tUK"
   },
   "source": [
    "# Dataset/DataLoader Functions"
   ]
  },
  {
   "cell_type": "code",
   "execution_count": 8,
   "metadata": {
    "id": "J66N-N8X_w93"
   },
   "outputs": [
    {
     "name": "stdout",
     "output_type": "stream",
     "text": [
      "Dataset Info:\n",
      "Training data shape: torch.Size([9600, 28, 28])\n",
      "Training labels shape: torch.Size([9600])\n",
      "Training unique labels: [0 1]\n",
      "Test data shape: torch.Size([1600, 28, 28])\n",
      "Test labels shape: torch.Size([1600])\n",
      "Test unique labels: [0 1]\n",
      "Batch images shape: torch.Size([32, 1, 28, 28])\n",
      "Batch labels shape: torch.Size([32])\n"
     ]
    }
   ],
   "source": [
    "import torchvision\n",
    "\n",
    "# Seed worker function for reproducibility in DataLoader\n",
    "def seed_worker(worker_id):\n",
    "    worker_seed = torch.initial_seed() % 2**32\n",
    "    np.random.seed(worker_seed)\n",
    "    torch.manual_seed(worker_seed)\n",
    "\n",
    "# Provided function: Load EMNIST dataset with only O (15) and X (24)\n",
    "def get_Xvs0_dataset(normalize=False, download=False):\n",
    "    \"\"\"\n",
    "    Load Dataset\n",
    "\n",
    "    Args:\n",
    "        normalize: boolean\n",
    "            If true, normalise dataloader\n",
    "        download: boolean\n",
    "            If true, download dataset\n",
    "\n",
    "    Returns:\n",
    "        emnist_train: torch.loader\n",
    "            Training Data\n",
    "        emnist_test: torch.loader\n",
    "            Test Data\n",
    "    \"\"\"\n",
    "    if normalize:\n",
    "        transform = transforms.Compose([\n",
    "            transforms.ToTensor(),\n",
    "            transforms.Normalize((0.1307,), (0.3081,))\n",
    "        ])\n",
    "    else:\n",
    "        transform = transforms.Compose([\n",
    "            transforms.ToTensor(),\n",
    "        ])\n",
    "\n",
    "    emnist_train = torchvision.datasets.EMNIST(root='.',\n",
    "                                               split='letters',\n",
    "                                               download=download,\n",
    "                                               train=True,\n",
    "                                               transform=transform)\n",
    "    emnist_test = torchvision.datasets.EMNIST(root='.',\n",
    "                                              split='letters',\n",
    "                                              download=download,\n",
    "                                              train=False,\n",
    "                                              transform=transform)\n",
    "\n",
    "    # Only want O (15) and X (24) labels\n",
    "    train_idx = (emnist_train.targets == 15) | (emnist_train.targets == 24)\n",
    "    emnist_train.targets = emnist_train.targets[train_idx]\n",
    "    emnist_train.data = emnist_train.data[train_idx]\n",
    "\n",
    "    # Convert Xs predictions to 1, Os predictions to 0\n",
    "    emnist_train.targets = (emnist_train.targets == 24).type(torch.int64)\n",
    "\n",
    "    test_idx = (emnist_test.targets == 15) | (emnist_test.targets == 24)\n",
    "    emnist_test.targets = emnist_test.targets[test_idx]\n",
    "    emnist_test.data = emnist_test.data[test_idx]\n",
    "\n",
    "    # Convert Xs predictions to 1, Os predictions to 0\n",
    "    emnist_test.targets = (emnist_test.targets == 24).type(torch.int64)\n",
    "\n",
    "    return emnist_train, emnist_test\n",
    "\n",
    "# Provided function: Create data loaders\n",
    "def get_data_loaders(train_dataset, test_dataset, batch_size=32, seed=0):\n",
    "    \"\"\"\n",
    "    Helper function to fetch dataloaders\n",
    "\n",
    "    Args:\n",
    "        train_dataset: torch.tensor\n",
    "            Training data\n",
    "        test_dataset: torch.tensor\n",
    "            Test data\n",
    "        batch_size: int\n",
    "            Batch Size\n",
    "        seed: int\n",
    "            Set seed for reproducibility\n",
    "\n",
    "    Returns:\n",
    "        train_loader: torch.loader\n",
    "            Training Data\n",
    "        test_loader: torch.loader\n",
    "            Test Data\n",
    "    \"\"\"\n",
    "    g_seed = torch.Generator()\n",
    "    g_seed.manual_seed(seed)\n",
    "\n",
    "    train_loader = DataLoader(train_dataset,\n",
    "                              batch_size=batch_size,\n",
    "                              shuffle=True,\n",
    "                              num_workers=0,  # Disable multiprocessing\n",
    "                              generator=g_seed)\n",
    "    test_loader = DataLoader(test_dataset,\n",
    "                             batch_size=batch_size,\n",
    "                             shuffle=True,\n",
    "                             num_workers=0,  # Disable multiprocessing\n",
    "                             generator=g_seed)\n",
    "\n",
    "    return train_loader, test_loader\n",
    "\n",
    "# Load the dataset\n",
    "train_dataset, test_dataset = get_Xvs0_dataset(normalize=True, download=True)\n",
    "\n",
    "# Create data loaders\n",
    "batch_size = 32\n",
    "train_loader, test_loader = get_data_loaders(train_dataset, test_dataset, batch_size=batch_size, seed=0)\n",
    "\n",
    "# Function to extract data shapes (similar to your original code)\n",
    "def print_dataset_info(dataset, loader, name=\"Dataset\"):\n",
    "    data_shape = dataset.data.shape\n",
    "    labels_shape = dataset.targets.shape\n",
    "    print(f\"{name} data shape: {data_shape}\")\n",
    "    print(f\"{name} labels shape: {labels_shape}\")\n",
    "    # Count unique labels\n",
    "    unique_labels = torch.unique(dataset.targets).numpy()\n",
    "    print(f\"{name} unique labels: {unique_labels}\")\n",
    "\n",
    "# Print dataset information\n",
    "print(\"Dataset Info:\")\n",
    "print_dataset_info(train_dataset, train_loader, \"Training\")\n",
    "print_dataset_info(test_dataset, test_loader, \"Test\")\n",
    "\n",
    "# Optionally, verify a batch from the loader\n",
    "for images, labels in train_loader:\n",
    "    print(f\"Batch images shape: {images.shape}\")\n",
    "    print(f\"Batch labels shape: {labels.shape}\")\n",
    "    break"
   ]
  },
  {
   "cell_type": "code",
   "execution_count": null,
   "metadata": {
    "id": "GeOPOdf3_x-F"
   },
   "outputs": [],
   "source": [
    "emnist_train, emnist_test = get_Xvs0_dataset(normalize=False, download=False)\n",
    "train_loader, test_loader = get_data_loaders(emnist_train, emnist_test,\n",
    "                                             seed=SEED)\n",
    "\n",
    "# Index of an image in the dataset that corresponds to an X and O\n",
    "x_img_idx = 4\n",
    "o_img_idx = 15"
   ]
  },
  {
   "cell_type": "markdown",
   "metadata": {
    "id": "7i4g86qHRQFu"
   },
   "source": [
    "Here, you can see a couple of samples from the dataset."
   ]
  },
  {
   "cell_type": "code",
   "execution_count": 9,
   "metadata": {
    "colab": {
     "base_uri": "https://localhost:8080/",
     "height": 524
    },
    "executionInfo": {
     "elapsed": 1900,
     "status": "ok",
     "timestamp": 1742719866007,
     "user": {
      "displayName": "Amir Sadra Khodadadi",
      "userId": "15849954129266561906"
     },
     "user_tz": -210
    },
    "id": "43mOXpl2RP0B",
    "outputId": "99fd52ae-3fdd-4fb9-9b8e-0a085437a1c9"
   },
   "outputs": [
    {
     "data": {
      "image/png": "[encoded data removed]",
      "text/plain": [
       "<Figure size 1200x600 with 6 Axes>"
      ]
     },
     "metadata": {},
     "output_type": "display_data"
    }
   ],
   "source": [
    "emnist_train = train_dataset\n",
    "emnist_test = test_dataset\n",
    "\n",
    "fig, ((ax1, ax2, ax3),\n",
    "      (ax4, ax5, ax6)) = plt.subplots(2, 3, figsize=(12, 6))\n",
    "ax1.imshow(emnist_train[0][0].reshape(28, 28), cmap='gray')\n",
    "ax2.imshow(emnist_train[10][0].reshape(28, 28), cmap='gray')\n",
    "ax3.imshow(emnist_train[15][0].reshape(28, 28), cmap='gray')\n",
    "ax4.imshow(emnist_train[6][0].reshape(28, 28), cmap='gray')\n",
    "ax5.imshow(emnist_train[3][0].reshape(28, 28), cmap='gray')\n",
    "ax6.imshow(emnist_train[4][0].reshape(28, 28), cmap='gray')\n",
    "plt.show()"
   ]
  },
  {
   "cell_type": "markdown",
   "metadata": {
    "id": "HOU816T8gR_9"
   },
   "source": [
    "# A visualization of the process\n",
    "\n",
    "**Assignment starts from here, fill the missing codes (...)**"
   ]
  },
  {
   "cell_type": "markdown",
   "metadata": {
    "id": "FgN3GIbEgiL0"
   },
   "source": [
    "## Multiple filters\n",
    "\n",
    "* For the following network, we set up 3 filters and run them on an image of the dataset from the X class."
   ]
  },
  {
   "cell_type": "code",
   "execution_count": 10,
   "metadata": {
    "id": "3LtTV4j-gW7u"
   },
   "outputs": [],
   "source": [
    "class Net(nn.Module):\n",
    "\n",
    "  def __init__(self, padding=0):\n",
    "    \"\"\"\n",
    "    Initialize parameters of Net\n",
    "\n",
    "    Args:\n",
    "      padding: int or tuple, optional. Default: 0\n",
    "\n",
    "    Returns:\n",
    "      Nothing\n",
    "    \"\"\"\n",
    "    super(Net, self).__init__()\n",
    "    self.conv1 = nn.Conv2d(in_channels=1, out_channels=3, kernel_size=5,\n",
    "                           padding=padding)\n",
    "\n",
    "    # First kernel\n",
    "    kernel_1 = torch.Tensor([[[1., 1., -1., -1., -1.],\n",
    "                              [1., 1., 1., -1., -1.],\n",
    "                              [-1., 1., 1., 1., -1.],\n",
    "                              [-1., -1., 1., 1., 1.],\n",
    "                              [-1., -1., -1., 1., 1.]]])\n",
    "\n",
    "    # Second kernel\n",
    "    kernel_2 = torch.Tensor([[[-1., -1., -1., 1., 1.],\n",
    "                              [-1., -1., 1., 1., 1.],\n",
    "                              [-1., 1., 1., 1., -1.],\n",
    "                              [1., 1., 1., -1., -1.],\n",
    "                              [1., 1., -1., -1., -1.]]])\n",
    "\n",
    "    # Third kernel\n",
    "    kernel_3 = torch.Tensor([[[1., 1., -1., 1., 1.],\n",
    "                              [1., 1., 1., 1., 1.],\n",
    "                              [-1., 1., 1., 1., -1.],\n",
    "                              [1., 1., 1., 1., 1.],\n",
    "                              [1., 1., -1., 1., 1.]]])\n",
    "\n",
    "\n",
    "    #####################################################################\n",
    "    # TODO:\n",
    "    # 1) Stack all kernels in one tensor with (3, 1, 5, 5) dimensions\n",
    "    # 2) Set this tensor as the weight of self.conv1 --> use torch.nn.Parameter(...)\n",
    "    # comment the line below to test your code\n",
    "    #raise NotImplementedError(\" Complete the initialization first\")\n",
    "    \n",
    "    mult_kernels = torch.stack([kernel_1,kernel_2, kernel_3], dim=0)\n",
    "    self.conv1.weight = torch.nn.Parameter(mult_kernels)\n",
    "    self.conv1.bias = torch.nn.Parameter(torch.Tensor([-4, -4, -12]))\n",
    "    \n",
    "    #####################################################################\n",
    "\n",
    "  def forward(self, x):\n",
    "    \"\"\"\n",
    "    Forward Pass of Net\n",
    "\n",
    "    Args:\n",
    "      x: torch.tensor\n",
    "        Input features\n",
    "\n",
    "    Returns:\n",
    "      x: torch.tensor\n",
    "        Convolution output\n",
    "    \"\"\"\n",
    "    #####################################################################\n",
    "    # TODO:\n",
    "    # 3) Apply the conv layer to the input\n",
    "    \n",
    "    x = self.conv1(x)\n",
    "    return x\n",
    "    #####################################################################"
   ]
  },
  {
   "cell_type": "markdown",
   "metadata": {
    "id": "rK5Fw63LiPrT"
   },
   "source": [
    "**Q1: Why did we  add a negative bias?**\n",
    "\n",
    "`answer:`\n",
    "We added a negative bias to the convolution layer to help suppress background activations and enhance filter selectivity.\n",
    "\n",
    "Each of the filters is designed to detect a specific pattern — for example, diagonal lines or circular shapes. But without a bias, even regions that only partially match the filter might produce a positive activation, leading to false positives.\n",
    "\n",
    "By using a negative bias (e.g., $-4$ or $-12$), we effectively raise the threshold for activation. This means the filter will only respond strongly (i.e., with a positive output) when the input matches the filter very closely. If there's no strong match, the output of the convolution (before ReLU, if used later) might stay negative or near zero, which helps the model focus on clear matches to the desired pattern.\n"
   ]
  },
  {
   "cell_type": "code",
   "execution_count": 13,
   "metadata": {
    "colab": {
     "base_uri": "https://localhost:8080/",
     "height": 245
    },
    "executionInfo": {
     "elapsed": 1261,
     "status": "ok",
     "timestamp": 1742720183010,
     "user": {
      "displayName": "Amir Sadra Khodadadi",
      "userId": "15849954129266561906"
     },
     "user_tz": -210
    },
    "id": "1uMAJeZQiw1Y",
    "outputId": "29300704-fcde-4bb6-c1b3-86fdcf308e4e"
   },
   "outputs": [
    {
     "data": {
      "text/plain": [
       "<matplotlib.image.AxesImage at 0x1c6818c16d0>"
      ]
     },
     "execution_count": 13,
     "metadata": {},
     "output_type": "execute_result"
    },
    {
     "data": {
      "image/png": "[encoded data removed]",
      "text/plain": [
       "<Figure size 640x480 with 3 Axes>"
      ]
     },
     "metadata": {},
     "output_type": "display_data"
    }
   ],
   "source": [
    "# Visualizing the filters\n",
    "\n",
    "net = Net().to(DEVICE)\n",
    "fig, (ax11, ax12, ax13) = plt.subplots(1, 3)\n",
    "# Show the filters\n",
    "ax11.set_title(\"filter 1\")\n",
    "ax11.imshow(net.conv1.weight[0, 0].detach().cpu().numpy(), cmap=\"gray\")\n",
    "ax12.set_title(\"filter 2\")\n",
    "ax12.imshow(net.conv1.weight[1, 0].detach().cpu().numpy(), cmap=\"gray\")\n",
    "ax13.set_title(\"filter 3\")\n",
    "ax13.imshow(net.conv1.weight[2, 0].detach().cpu().numpy(), cmap=\"gray\")"
   ]
  },
  {
   "cell_type": "markdown",
   "metadata": {
    "id": "vR6fr0bsjQJx"
   },
   "source": [
    "**Q2: How do you think these filters would help to recognize X?**\n",
    "\n",
    "`answer:`\n",
    "\n",
    "The filters help recognize $X$ by breaking down its structure into simpler components. An $X$ can be seen as the combination of a slash ( $/$ ) and a backslash ( \\ ) intersecting at the center. The first filter, which is sensitive to diagonal lines, will respond strongly to these components. When an $X$ is present, both diagonal features activate simultaneously, producing a distinct pattern of activation that indicates the presence of an slash and back slashes and hence $X$.\n",
    "\n",
    "The third filter, designed to detect O-shaped curves, would ideally not activate much for an $X$. This contrast in activation patterns between the two filters helps in distinguishing X from similar characters like O or slanted lines. So, using both filters together allows for better discrimination between letters by analyzing which filters respond and how.\n",
    "\n"
   ]
  },
  {
   "cell_type": "code",
   "execution_count": 14,
   "metadata": {
    "id": "MtAmWY42jvsK"
   },
   "outputs": [],
   "source": [
    "# Applying the filters to the images\n",
    "\n",
    "\n",
    "#####################################################################\n",
    "# TODO:\n",
    "# 1) Pass the the image of 'X' and 'O' through the network to see the output\n",
    "\n",
    "x_indices = (emnist_train.targets == 1).nonzero(as_tuple=True)[0]\n",
    "o_indices = (emnist_train.targets == 0).nonzero(as_tuple=True)[0]\n",
    "x_img_idx = x_indices[0].item()  # First 'X' image\n",
    "o_img_idx = o_indices[0].item()  # First 'O' image\n",
    "\n",
    "net = Net().to(DEVICE)\n",
    "x_img = emnist_train[x_img_idx][0].unsqueeze(dim=0).to(DEVICE)\n",
    "\n",
    "# 1)\n",
    "output_x = net(x_img)\n",
    "output_x = output_x.squeeze(dim=0).detach().cpu().numpy()\n",
    "\n",
    "o_img = emnist_train[o_img_idx][0].unsqueeze(dim=0).to(DEVICE)\n",
    "\n",
    "# 1)\n",
    "output_o = net(o_img)\n",
    "output_o = output_o.squeeze(dim=0).detach().cpu().numpy()\n",
    "\n",
    "#####################################################################"
   ]
  },
  {
   "cell_type": "code",
   "execution_count": 15,
   "metadata": {},
   "outputs": [
    {
     "data": {
      "image/png": "[encoded data removed]",
      "text/plain": [
       "<Figure size 1200x1000 with 12 Axes>"
      ]
     },
     "metadata": {},
     "output_type": "display_data"
    }
   ],
   "source": [
    "# Viewing what the output of the applied filters looks like\n",
    "\n",
    "fig, ((ax11, ax12, ax13, ax14),\n",
    "      (ax21, ax22, ax23, ax24),\n",
    "      (ax31, ax32, ax33, ax34)) = plt.subplots(3, 4, figsize=(12, 10))\n",
    "\n",
    "# Show the filters\n",
    "ax11.axis(\"off\")\n",
    "ax12.set_title(\"filter 1\")\n",
    "ax12.imshow(net.conv1.weight[0, 0].detach().cpu().numpy(), cmap=\"gray\")\n",
    "ax13.set_title(\"filter 2\")\n",
    "ax13.imshow(net.conv1.weight[1, 0].detach().cpu().numpy(), cmap=\"gray\")\n",
    "ax14.set_title(\"filter 3\")\n",
    "ax14.imshow(net.conv1.weight[2, 0].detach().cpu().numpy(), cmap=\"gray\")\n",
    "\n",
    "vmin, vmax = -6, 10\n",
    "# Show x and the filters applied to x\n",
    "ax21.set_title(\"image x\")\n",
    "ax21.imshow(emnist_train[x_img_idx][0].reshape(28, 28), cmap='gray')\n",
    "ax22.set_title(\"output filter 1\")\n",
    "ax22.imshow(output_x[0], cmap='gray', vmin=vmin, vmax=vmax)\n",
    "ax23.set_title(\"output filter 2\")\n",
    "ax23.imshow(output_x[1], cmap='gray', vmin=vmin, vmax=vmax)\n",
    "ax24.set_title(\"output filter 3\")\n",
    "ax24.imshow(output_x[2], cmap='gray', vmin=vmin, vmax=vmax)\n",
    "\n",
    "# Show o and the filters applied to o\n",
    "ax31.set_title(\"image o\")\n",
    "ax31.imshow(emnist_train[o_img_idx][0].reshape(28, 28), cmap='gray')\n",
    "ax32.set_title(\"output filter 1\")\n",
    "ax32.imshow(output_o[0], cmap='gray', vmin=vmin, vmax=vmax)\n",
    "ax33.set_title(\"output filter 2\")\n",
    "ax33.imshow(output_o[1], cmap='gray', vmin=vmin, vmax=vmax)\n",
    "ax34.set_title(\"output filter 3\")\n",
    "ax34.imshow(output_o[2], cmap='gray', vmin=vmin, vmax=vmax)\n",
    "plt.show()"
   ]
  },
  {
   "cell_type": "code",
   "execution_count": 16,
   "metadata": {
    "colab": {
     "base_uri": "https://localhost:8080/",
     "height": 828
    },
    "executionInfo": {
     "elapsed": 1361,
     "status": "ok",
     "timestamp": 1742641040150,
     "user": {
      "displayName": "Amirsadra Khodadadi",
      "userId": "01087369978622775234"
     },
     "user_tz": -210
    },
    "id": "SVpZyjvVj9PF",
    "outputId": "b1838d0c-e732-41c2-ebff-d3d6bd65cc58"
   },
   "outputs": [
    {
     "data": {
      "image/png": "[encoded data removed]",
      "text/plain": [
       "<Figure size 1200x1000 with 12 Axes>"
      ]
     },
     "metadata": {},
     "output_type": "display_data"
    }
   ],
   "source": [
    "# Viewing what the output of the applied filters looks like\n",
    "\n",
    "fig, ((ax11, ax12, ax13, ax14),\n",
    "      (ax21, ax22, ax23, ax24),\n",
    "      (ax31, ax32, ax33, ax34)) = plt.subplots(3, 4, figsize=(12, 10))\n",
    "\n",
    "# Show the filters\n",
    "ax11.axis(\"off\")\n",
    "ax12.set_title(\"filter 1\")\n",
    "ax12.imshow(net.conv1.weight[0, 0].detach().cpu().numpy(), cmap=\"gray\")\n",
    "ax13.set_title(\"filter 2\")\n",
    "ax13.imshow(net.conv1.weight[1, 0].detach().cpu().numpy(), cmap=\"gray\")\n",
    "ax14.set_title(\"filter 3\")\n",
    "ax14.imshow(net.conv1.weight[2, 0].detach().cpu().numpy(), cmap=\"gray\")\n",
    "\n",
    "vmin, vmax = -6, 10\n",
    "# Show x and the filters applied to x\n",
    "ax21.set_title(\"image x\")\n",
    "ax21.imshow(emnist_train[x_img_idx][0].reshape(28, 28), cmap='gray')\n",
    "ax22.set_title(\"output filter 1\")\n",
    "ax22.imshow(output_x[0], cmap='gray', vmin=vmin, vmax=vmax)\n",
    "ax23.set_title(\"output filter 2\")\n",
    "ax23.imshow(output_x[1], cmap='gray', vmin=vmin, vmax=vmax)\n",
    "ax24.set_title(\"output filter 3\")\n",
    "ax24.imshow(output_x[2], cmap='gray', vmin=vmin, vmax=vmax)\n",
    "\n",
    "# Show o and the filters applied to o\n",
    "ax31.set_title(\"image o\")\n",
    "ax31.imshow(emnist_train[o_img_idx][0].reshape(28, 28), cmap='gray')\n",
    "ax32.set_title(\"output filter 1\")\n",
    "ax32.imshow(output_o[0], cmap='gray', vmin=vmin, vmax=vmax)\n",
    "ax33.set_title(\"output filter 2\")\n",
    "ax33.imshow(output_o[1], cmap='gray', vmin=vmin, vmax=vmax)\n",
    "ax34.set_title(\"output filter 3\")\n",
    "ax34.imshow(output_o[2], cmap='gray', vmin=vmin, vmax=vmax)\n",
    "plt.show()"
   ]
  },
  {
   "cell_type": "markdown",
   "metadata": {
    "id": "j47uyywLlrBB"
   },
   "source": [
    "## ReLU\n",
    "\n",
    "* ReLU introduces non-linearity into our model, allowing to learn a more complex function that can better predict the class of an image.\n",
    "\n",
    "* Let's incorporate ReLU into the previous model and visualize the output.\n"
   ]
  },
  {
   "cell_type": "code",
   "execution_count": 12,
   "metadata": {
    "id": "uMsOdl5vl6f3"
   },
   "outputs": [],
   "source": [
    "class Net2(nn.Module):\n",
    "\n",
    "  def __init__(self, padding=0):\n",
    "    \"\"\"\n",
    "    Initialize Net2 parameters\n",
    "\n",
    "    Args:\n",
    "      padding: int or tuple, optional. Default: 0\n",
    "\n",
    "    Returns:\n",
    "      Nothing\n",
    "    \"\"\"\n",
    "    super(Net2, self).__init__()\n",
    "    self.conv1 = nn.Conv2d(in_channels=1, out_channels=3, kernel_size=5,\n",
    "                           padding=padding)\n",
    "\n",
    "    # First kernel\n",
    "    kernel_1 = torch.Tensor([[[1., 1., -1., -1., -1.],\n",
    "                              [1., 1., 1., -1., -1.],\n",
    "                              [-1., 1., 1., 1., -1.],\n",
    "                              [-1., -1., 1., 1., 1.],\n",
    "                              [-1., -1., -1., 1., 1.]]])\n",
    "\n",
    "    # Second kernel\n",
    "    kernel_2 = torch.Tensor([[[-1., -1., -1., 1., 1.],\n",
    "                              [-1., -1., 1., 1., 1.],\n",
    "                              [-1., 1., 1., 1., -1.],\n",
    "                              [1., 1., 1., -1., -1.],\n",
    "                              [1., 1., -1., -1., -1.]]])\n",
    "\n",
    "    # Third kernel\n",
    "    kernel_3 = torch.Tensor([[[1., 1., -1., 1., 1.],\n",
    "                              [1., 1., 1., 1., 1.],\n",
    "                              [-1., 1., 1., 1., -1.],\n",
    "                              [1., 1., 1., 1., 1.],\n",
    "                              [1., 1., -1., 1., 1.]]])\n",
    "\n",
    "\n",
    "\n",
    "    #####################################################################\n",
    "    # TODO:\n",
    "    # 1) Stack all kernels in one tensor\n",
    "    # 2) Set this tensor as the weight of self.conv1\n",
    "\n",
    "    # 1)\n",
    "    multiple_kernels = torch.stack([kernel_1, kernel_2, kernel_3], dim = 0)\n",
    "\n",
    "    # 2)\n",
    "    self.conv1.weight = torch.nn.Parameter(multiple_kernels)\n",
    "\n",
    "    # Negative bias\n",
    "    self.conv1.bias = torch.nn.Parameter(torch.Tensor([-4, -4, -12]))\n",
    "\n",
    "  def forward(self, x):\n",
    "    \"\"\"\n",
    "    Forward Pass of Net2\n",
    "\n",
    "    Args:\n",
    "      x: torch.tensor\n",
    "        Input features\n",
    "\n",
    "    Returns:\n",
    "      x: torch.tensor\n",
    "        Convolution + ReLU output\n",
    "    \"\"\"\n",
    "\n",
    "    #####################################################################\n",
    "    # TODO:\n",
    "    # 1) Apply conv layer and ReLU to the input\n",
    "\n",
    "    # 3)\n",
    "    x = self.conv1(x)\n",
    "    x = torch.nn.functional.relu(x)\n",
    "    return x"
   ]
  },
  {
   "cell_type": "code",
   "execution_count": 17,
   "metadata": {
    "id": "4bMSuvxEmnCr"
   },
   "outputs": [],
   "source": [
    "# Apply the filters and relus to the images.\n",
    "\n",
    "net2 = Net2().to(DEVICE)\n",
    "x_img = emnist_train[x_img_idx][0].unsqueeze(dim=0).to(DEVICE)\n",
    "output_x_relu = net2(x_img)\n",
    "output_x_relu = output_x_relu.squeeze(dim=0).detach().cpu().numpy()\n",
    "\n",
    "o_img = emnist_train[o_img_idx][0].unsqueeze(dim=0).to(DEVICE)\n",
    "output_o_relu = net2(o_img)\n",
    "output_o_relu = output_o_relu.squeeze(dim=0).detach().cpu().numpy()"
   ]
  },
  {
   "cell_type": "code",
   "execution_count": 18,
   "metadata": {},
   "outputs": [
    {
     "data": {
      "image/png": "[encoded data removed]",
      "text/plain": [
       "<Figure size 1400x800 with 21 Axes>"
      ]
     },
     "metadata": {},
     "output_type": "display_data"
    }
   ],
   "source": [
    "# Viewing what the output of the applied filters looks like\n",
    "\n",
    "fig, ((ax11, ax12, ax13, ax14, ax15, ax16, ax17),\n",
    "      (ax21, ax22, ax23, ax24, ax25, ax26, ax27),\n",
    "      (ax31, ax32, ax33, ax34, ax35, ax36, ax37)) = plt.subplots(3, 4 + 3,\n",
    "                                                                 figsize=(14, 8))\n",
    "# Show the filters\n",
    "ax11.axis(\"off\")\n",
    "ax12.set_title(\"filter 1\")\n",
    "ax12.imshow(net2.conv1.weight[0, 0].detach().cpu().numpy(), cmap=\"gray\")\n",
    "ax13.set_title(\"filter 2\")\n",
    "ax13.imshow(net2.conv1.weight[1, 0].detach().cpu().numpy(), cmap=\"gray\")\n",
    "ax14.set_title(\"filter 3\")\n",
    "ax14.imshow(net2.conv1.weight[2, 0].detach().cpu().numpy(), cmap=\"gray\")\n",
    "\n",
    "ax15.set_title(\"filter 1\")\n",
    "ax15.imshow(net2.conv1.weight[0, 0].detach().cpu().numpy(), cmap=\"gray\")\n",
    "ax16.set_title(\"filter 2\")\n",
    "ax16.imshow(net2.conv1.weight[1, 0].detach().cpu().numpy(), cmap=\"gray\")\n",
    "ax17.set_title(\"filter 3\")\n",
    "ax17.imshow(net2.conv1.weight[2, 0].detach().cpu().numpy(), cmap=\"gray\")\n",
    "\n",
    "vmin, vmax = -6, 10\n",
    "# Show x and the filters applied to `x`\n",
    "ax21.set_title(\"image x\")\n",
    "ax21.imshow(emnist_train[x_img_idx][0].reshape(28, 28), cmap='gray')\n",
    "ax22.set_title(\"output filter 1\")\n",
    "ax22.imshow(output_x[0], cmap='gray', vmin=vmin, vmax=vmax)\n",
    "ax23.set_title(\"output filter 2\")\n",
    "ax23.imshow(output_x[1], cmap='gray', vmin=vmin, vmax=vmax)\n",
    "ax24.set_title(\"output filter 3\")\n",
    "ax24.imshow(output_x[2], cmap='gray', vmin=vmin, vmax=vmax)\n",
    "\n",
    "ax25.set_title(\"filter 1 + ReLU\")\n",
    "ax25.imshow(output_x_relu[0], cmap='gray', vmin=vmin, vmax=vmax)\n",
    "ax26.set_title(\"filter 2 + ReLU\")\n",
    "ax26.imshow(output_x_relu[1], cmap='gray', vmin=vmin, vmax=vmax)\n",
    "ax27.set_title(\"filter 3 + ReLU\")\n",
    "ax27.imshow(output_x_relu[2], cmap='gray', vmin=vmin, vmax=vmax)\n",
    "\n",
    "# Show o and the filters applied to `o`\n",
    "ax31.set_title(\"image o\")\n",
    "ax31.imshow(emnist_train[o_img_idx][0].reshape(28, 28), cmap='gray')\n",
    "ax32.set_title(\"output filter 1\")\n",
    "ax32.imshow(output_o[0], cmap='gray', vmin=vmin, vmax=vmax)\n",
    "ax33.set_title(\"output filter 2\")\n",
    "ax33.imshow(output_o[1], cmap='gray', vmin=vmin, vmax=vmax)\n",
    "ax34.set_title(\"output filter 3\")\n",
    "ax34.imshow(output_o[2], cmap='gray', vmin=vmin, vmax=vmax)\n",
    "\n",
    "ax35.set_title(\"filter 1 + ReLU\")\n",
    "ax35.imshow(output_o_relu[0], cmap='gray', vmin=vmin, vmax=vmax)\n",
    "ax36.set_title(\"filter 2 + ReLU\")\n",
    "ax36.imshow(output_o_relu[1], cmap='gray', vmin=vmin, vmax=vmax)\n",
    "ax37.set_title(\"filter 3 + ReLU\")\n",
    "ax37.imshow(output_o_relu[2], cmap='gray', vmin=vmin, vmax=vmax)\n",
    "plt.show()"
   ]
  },
  {
   "cell_type": "markdown",
   "metadata": {
    "id": "6M6pKW5cnY4I"
   },
   "source": [
    "**Q3: How do you think the ReLU activations help strengthen the features necessary to detect an image?**\n",
    "\n",
    "`answer:`\n",
    "ReLU (Rectified Linear Unit) activation helps by amplifying important features and suppressing irrelevant ones. After the convolution layer, the output contains both positive and negative values — the positive values typically correspond to regions that match the learned filter patterns, while the negative ones often represent non-matching or noisy regions.\n",
    "\n",
    "By applying ReLU, we:\n",
    "\n",
    "- Keep only the strong, positive activations — these are likely to represent meaningful features like edges, corners, or specific shapes in the image.\n",
    "\n",
    "- Introduce non-linearity, which allows the network to learn more complex, abstract representations in deeper layers.\n",
    "\n",
    "- Avoid interference from negative responses, which could otherwise cancel out useful information in later layers.\n",
    "\n",
    "In short, ReLU highlights what matters in the feature maps and helps the model become more selective and effective in detecting patterns like X or O in the EMNIST dataset."
   ]
  },
  {
   "cell_type": "markdown",
   "metadata": {
    "id": "f9gz-XJipIJw"
   },
   "source": [
    "## MaxPooling\n",
    "\n",
    "* Now Let's implement MaxPooling. We use a kernel of size 2 and stride of 2 for the MaxPooling layer."
   ]
  },
  {
   "cell_type": "code",
   "execution_count": 19,
   "metadata": {
    "id": "I4BD2mGYpUj9"
   },
   "outputs": [],
   "source": [
    "class Net3(nn.Module):\n",
    "\n",
    "  def __init__(self, padding=0, stride=2):\n",
    "    \"\"\"\n",
    "    Initialise parameters of Net3\n",
    "\n",
    "    Args:\n",
    "      padding: int or tuple, optional\n",
    "        Zero-padding added to both sides of the input. Default: 0\n",
    "      stride: int\n",
    "        Stride\n",
    "\n",
    "    Returns:\n",
    "      Nothing\n",
    "    \"\"\"\n",
    "    super(Net3, self).__init__()\n",
    "    self.conv1 = nn.Conv2d(in_channels=1, out_channels=3, kernel_size=5,\n",
    "                            padding=padding)\n",
    "\n",
    "    # First kernel\n",
    "    kernel_1 = torch.Tensor([[[1., 1., -1., -1., -1.],\n",
    "                              [1., 1., 1., -1., -1.],\n",
    "                              [-1., 1., 1., 1., -1.],\n",
    "                              [-1., -1., 1., 1., 1.],\n",
    "                              [-1., -1., -1., 1., 1.]]])\n",
    "\n",
    "    # Second kernel\n",
    "    kernel_2 = torch.Tensor([[[-1., -1., -1., 1., 1.],\n",
    "                              [-1., -1., 1., 1., 1.],\n",
    "                              [-1., 1., 1., 1., -1.],\n",
    "                              [1., 1., 1., -1., -1.],\n",
    "                              [1., 1., -1., -1., -1.]]])\n",
    "\n",
    "    # Third kernel\n",
    "    kernel_3 = torch.Tensor([[[1., 1., -1., 1., 1.],\n",
    "                              [1., 1., 1., 1., 1.],\n",
    "                              [-1., 1., 1., 1., -1.],\n",
    "                              [1., 1., 1., 1., 1.],\n",
    "                              [1., 1., -1., 1., 1.]]])\n",
    "\n",
    "\n",
    "    #####################################################################\n",
    "    # TODO:\n",
    "    # 1) Stack all kernels in one tensor\n",
    "    # 2) Set this tensor as the weight of self.conv1\n",
    "    mult_kernels = torch.stack([kernel_1, kernel_2, kernel_3], dim=0)\n",
    "    self.conv1.weight = torch.nn.Parameter(mult_kernels)\n",
    "    # Negative bias\n",
    "    self.conv1.bias = torch.nn.Parameter(torch.Tensor([-4, -4, -12]))\n",
    "    # 3) Define a MaxPooling layer with a kernel of size 2 and stride of 2 --> there is an arg for stride in __init__\n",
    "\n",
    "    # 3)\n",
    "    self.pool = nn.MaxPool2d(kernel_size=2, stride=stride)\n",
    "\n",
    "  def forward(self, x):\n",
    "    \"\"\"\n",
    "    Forward Pass of Net3\n",
    "\n",
    "    Args:\n",
    "      x: torch.tensor\n",
    "        Input features\n",
    "\n",
    "    Returns:\n",
    "      x: torch.tensor\n",
    "        Convolution + ReLU + Pooling output\n",
    "    \"\"\"\n",
    "    #####################################################################\n",
    "    # TODO:\n",
    "    # 4) Apply conv layer + ReLU + maxpool layer to the input\n",
    "\n",
    "\n",
    "    # 4)\n",
    "    x = self.conv1(x)\n",
    "    x = torch.nn.functional.relu(x) \n",
    "    x = self.pool(x)\n",
    "    return x\n"
   ]
  },
  {
   "cell_type": "code",
   "execution_count": 20,
   "metadata": {
    "id": "gnYsov22qKkK"
   },
   "outputs": [],
   "source": [
    "# Apply the filters and relus to the images.\n",
    "\n",
    "net3 = Net3().to(DEVICE)\n",
    "x_img = emnist_train[x_img_idx][0].unsqueeze(dim=0).to(DEVICE)\n",
    "output_x_pool = net3(x_img)\n",
    "output_x_pool = output_x_pool.squeeze(dim=0).detach().cpu().numpy()\n",
    "\n",
    "o_img = emnist_train[o_img_idx][0].unsqueeze(dim=0).to(DEVICE)\n",
    "output_o_pool = net3(o_img)\n",
    "output_o_pool = output_o_pool.squeeze(dim=0).detach().cpu().numpy()"
   ]
  },
  {
   "cell_type": "code",
   "execution_count": 21,
   "metadata": {
    "colab": {
     "base_uri": "https://localhost:8080/",
     "height": 828
    },
    "executionInfo": {
     "elapsed": 3025,
     "status": "ok",
     "timestamp": 1742721716773,
     "user": {
      "displayName": "Amir Sadra Khodadadi",
      "userId": "15849954129266561906"
     },
     "user_tz": -210
    },
    "id": "IrpJztogqLch",
    "outputId": "4aeaa466-b290-487b-d733-f8192a19baf5"
   },
   "outputs": [
    {
     "data": {
      "image/png": "[encoded data removed]",
      "text/plain": [
       "<Figure size 1200x1000 with 12 Axes>"
      ]
     },
     "metadata": {},
     "output_type": "display_data"
    }
   ],
   "source": [
    "# Viewing what the output of the applied filters looks like\n",
    "\n",
    "fig, ((ax11, ax12, ax13, ax14),\n",
    "      (ax21, ax22, ax23, ax24),\n",
    "      (ax31, ax32, ax33, ax34)) = plt.subplots(3, 4, figsize=(12, 10))\n",
    "\n",
    "# Show the filters\n",
    "ax11.axis(\"off\")\n",
    "ax12.set_title(\"filter 1\")\n",
    "ax12.imshow(net3.conv1.weight[0, 0].detach().cpu().numpy(), cmap=\"gray\")\n",
    "ax13.set_title(\"filter 2\")\n",
    "ax13.imshow(net3.conv1.weight[1, 0].detach().cpu().numpy(), cmap=\"gray\")\n",
    "ax14.set_title(\"filter 3\")\n",
    "ax14.imshow(net3.conv1.weight[2, 0].detach().cpu().numpy(), cmap=\"gray\")\n",
    "\n",
    "vmin, vmax = -6, 10\n",
    "# Show x and the filters applied to x\n",
    "ax21.set_title(\"image x\")\n",
    "ax21.imshow(emnist_train[x_img_idx][0].reshape(28, 28), cmap='gray')\n",
    "ax22.set_title(\"output filter 1\")\n",
    "ax22.imshow(output_x_pool[0], cmap='gray', vmin=vmin, vmax=vmax)\n",
    "ax23.set_title(\"output filter 2\")\n",
    "ax23.imshow(output_x_pool[1], cmap='gray', vmin=vmin, vmax=vmax)\n",
    "ax24.set_title(\"output filter 3\")\n",
    "ax24.imshow(output_x_pool[2], cmap='gray', vmin=vmin, vmax=vmax)\n",
    "\n",
    "# Show o and the filters applied to o\n",
    "ax31.set_title(\"image o\")\n",
    "ax31.imshow(emnist_train[o_img_idx][0].reshape(28, 28), cmap='gray')\n",
    "ax32.set_title(\"output filter 1\")\n",
    "ax32.imshow(output_o_pool[0], cmap='gray', vmin=vmin, vmax=vmax)\n",
    "ax33.set_title(\"output filter 2\")\n",
    "ax33.imshow(output_o_pool[1], cmap='gray', vmin=vmin, vmax=vmax)\n",
    "ax34.set_title(\"output filter 3\")\n",
    "ax34.imshow(output_o_pool[2], cmap='gray', vmin=vmin, vmax=vmax)\n",
    "plt.show()"
   ]
  },
  {
   "cell_type": "markdown",
   "metadata": {
    "id": "PWmYCIe2r2mV"
   },
   "source": [
    "* You can observe that after implementing Maxpool layer, the size of the output  being half of what you we after the ReLU section.\n",
    "\n",
    "* Despite the reduction in the size of the output, the important or high-level features in the output still remains intact."
   ]
  },
  {
   "cell_type": "markdown",
   "metadata": {
    "id": "QjsnpUcT19aS"
   },
   "source": [
    "# implement a CNN\n",
    "\n",
    "For this section, you're going to create a CNN."
   ]
  },
  {
   "cell_type": "code",
   "execution_count": 22,
   "metadata": {
    "id": "AFa9AGjsD9em"
   },
   "outputs": [],
   "source": [
    "# Train/Test Functions\n",
    "# You will code your training loop in HW_CNN_part2, you can run this cell for this HW for now\n",
    "\n",
    "def train(model, device, train_loader, epochs):\n",
    "  \"\"\"\n",
    "  Training function\n",
    "\n",
    "  Args:\n",
    "    model: nn.module\n",
    "      Neural network instance\n",
    "    device: string\n",
    "      GPU/CUDA if available, CPU otherwise\n",
    "    train_loader: torch.loader\n",
    "      Training Set\n",
    "    epochs: int\n",
    "      Number of epochs\n",
    "\n",
    "  Returns:\n",
    "    Nothing\n",
    "  \"\"\"\n",
    "  model.train()\n",
    "\n",
    "  criterion = nn.CrossEntropyLoss()\n",
    "  optimizer = torch.optim.SGD(model.parameters(), lr=0.01)\n",
    "  for epoch in range(epochs):\n",
    "    with tqdm(train_loader, unit='batch') as tepoch:\n",
    "      for data, target in tepoch:\n",
    "        data, target = data.to(device), target.to(device)\n",
    "        optimizer.zero_grad()\n",
    "        output = model(data)\n",
    "\n",
    "        loss = criterion(output, target)\n",
    "        loss.backward()\n",
    "        optimizer.step()\n",
    "        tepoch.set_postfix(loss=loss.item())\n",
    "        time.sleep(0.1)\n",
    "\n",
    "def test(model, device, data_loader):\n",
    "  \"\"\"\n",
    "  Test function\n",
    "\n",
    "  Args:\n",
    "    model: nn.module\n",
    "      Neural network instance\n",
    "    device: string\n",
    "      GPU/CUDA if available, CPU otherwise\n",
    "    data_loader: torch.loader\n",
    "      Test Set\n",
    "\n",
    "  Returns:\n",
    "    acc: float\n",
    "      Test accuracy\n",
    "  \"\"\"\n",
    "  model.eval()\n",
    "  correct = 0\n",
    "  total = 0\n",
    "  for data in data_loader:\n",
    "    inputs, labels = data\n",
    "    inputs = inputs.to(device).float()\n",
    "    labels = labels.to(device).long()\n",
    "\n",
    "    outputs = model(inputs)\n",
    "    _, predicted = torch.max(outputs, 1)\n",
    "    total += labels.size(0)\n",
    "    correct += (predicted == labels).sum().item()\n",
    "\n",
    "  acc = 100 * correct / total\n",
    "  return acc"
   ]
  },
  {
   "cell_type": "code",
   "execution_count": 23,
   "metadata": {
    "colab": {
     "base_uri": "https://localhost:8080/"
    },
    "executionInfo": {
     "elapsed": 293,
     "status": "ok",
     "timestamp": 1742722310824,
     "user": {
      "displayName": "Amir Sadra Khodadadi",
      "userId": "15849954129266561906"
     },
     "user_tz": -210
    },
    "id": "UPm4zb-qECZ_",
    "outputId": "d0e7f1b4-b83b-434a-8b3b-2a9cdc8c0850"
   },
   "outputs": [
    {
     "name": "stdout",
     "output_type": "stream",
     "text": [
      "Random seed 1404 has been set.\n"
     ]
    }
   ],
   "source": [
    "set_seed(SEED)\n",
    "emnist_train, emnist_test = get_Xvs0_dataset(normalize=True)\n",
    "train_loader, test_loader = get_data_loaders(emnist_train, emnist_test,\n",
    "                                             seed=SEED)"
   ]
  },
  {
   "cell_type": "code",
   "execution_count": 26,
   "metadata": {
    "colab": {
     "base_uri": "https://localhost:8080/",
     "height": 84,
     "referenced_widgets": [
      "abc1fa09c739473e82c651bf68e0d3fb",
      "565c11dd0e31467ba6a7c56eb76d9dfb",
      "649f90888647485e973ec3e936a8b349",
      "c82d06f1799c4c01bc862c74d51e4709",
      "683dcb454aa046d4b761f20ee3a14682",
      "d543a074c81c4999967ca1bfe9ba28cf",
      "a209d2372e1b4f46a2982f4e3f77dce0",
      "7de2acf5eb184593a53a658718b74f55",
      "1541101a1af640a79bc9fe85837a8ef6",
      "6e4371613ea74dca94c6eb32cb6aa3ce",
      "bd3a794e6c1744e8bda51f7b4c1dba5d"
     ]
    },
    "executionInfo": {
     "elapsed": 39125,
     "status": "ok",
     "timestamp": 1742722931358,
     "user": {
      "displayName": "Amir Sadra Khodadadi",
      "userId": "15849954129266561906"
     },
     "user_tz": -210
    },
    "id": "6PpSbpN5EC8g",
    "outputId": "df609e8e-2352-4144-c57b-a00b464d381b"
   },
   "outputs": [
    {
     "name": "stdout",
     "output_type": "stream",
     "text": [
      "Total Parameters in Network    1198850\n"
     ]
    },
    {
     "data": {
      "application/vnd.jupyter.widget-view+json": {
       "model_id": "570e9ab5ec924c509a5c118ce7963008",
       "version_major": 2,
       "version_minor": 0
      },
      "text/plain": [
       "  0%|          | 0/300 [00:00<?, ?batch/s]"
      ]
     },
     "metadata": {},
     "output_type": "display_data"
    },
    {
     "name": "stdout",
     "output_type": "stream",
     "text": [
      "Test accuracy is: 99.0625\n"
     ]
    }
   ],
   "source": [
    "class EMNIST_Net(nn.Module):\n",
    "  \"\"\"\n",
    "  Neural network instance with following structure\n",
    "  # Convolutional Layer 1: 1 --> 32, kernel_size=3\n",
    "  # Convolutional Block 2: 32 --> 64, kernel_size=3 + maxpooling\n",
    "  # Fully Connected Layer 1: 9216 --> 128\n",
    "  # Fully Connected Layer 2: 128 --> 2\n",
    "  \"\"\"\n",
    "\n",
    "  def __init__(self):\n",
    "    \"\"\"\n",
    "    Initialize parameters of EMNISTNet\n",
    "\n",
    "    Args:\n",
    "      None\n",
    "\n",
    "    Returns:\n",
    "      Nothing\n",
    "    \"\"\"\n",
    "    super(EMNIST_Net, self).__init__()\n",
    "\n",
    "\n",
    "    ####################################################################\n",
    "    # TODO:\n",
    "    # 1) Define the required layers according to the given structure\n",
    "\n",
    "\n",
    "    # 1)\n",
    "    self.conv1 = nn.Conv2d(in_channels=1, out_channels=32, kernel_size=3)\n",
    "    self.conv2 = nn.Conv2d(in_channels=32, out_channels=64, kernel_size=3)\n",
    "    self.fc1 = nn.Linear(in_features=64*12*12, out_features=128)\n",
    "    self.fc2 = nn.Linear(in_features=128, out_features=2)\n",
    "    self.pool = nn.MaxPool2d(kernel_size=2, stride=2)\n",
    "\n",
    "  def forward(self, x):\n",
    "    \"\"\"\n",
    "    Forward pass of EMNISTNet\n",
    "\n",
    "    Args:\n",
    "      x: torch.tensor\n",
    "        Input features\n",
    "\n",
    "    Returns:\n",
    "      x: torch.tensor\n",
    "        Output of final fully connected layer\n",
    "    \"\"\"\n",
    "\n",
    "    ####################################################################\n",
    "    # TODO:\n",
    "    # 2) Define forward pass for any input x (don't forget relus)\n",
    "    # hint --> don't forget to flatten the image when it passes from Convolution Layers to Linear Layers (torch.flatten())\n",
    "\n",
    "\n",
    "    # 2)\n",
    "    x = self.conv1(x)\n",
    "    x = nn.functional.relu(x)\n",
    "    x = self.conv2(x)\n",
    "    x = self.pool(x)\n",
    "    x = torch.flatten(x,1)\n",
    "    x = self.fc1(x)\n",
    "    x = nn.functional.relu(x)\n",
    "    x = self.fc2(x)\n",
    "    #x = ...\n",
    "    #x = ...\n",
    "    return x\n",
    "\n",
    "\n",
    "emnist_net = EMNIST_Net().to(DEVICE)\n",
    "print(\"Total Parameters in Network {:10d}\".format(sum(p.numel() for p in emnist_net.parameters())))\n",
    "train(emnist_net, DEVICE, train_loader, 1)\n",
    "\n",
    "print(f'Test accuracy is: {test(emnist_net, DEVICE, test_loader)}')"
   ]
  },
  {
   "cell_type": "markdown",
   "metadata": {
    "id": "wdjA5x0L38QD"
   },
   "source": [
    "## Softmax\n",
    "\n",
    "* Now let's use softmax function which converts a real value to a value between 0 and 1, that can be interpreted as a probability."
   ]
  },
  {
   "cell_type": "code",
   "execution_count": 27,
   "metadata": {
    "colab": {
     "base_uri": "https://localhost:8080/",
     "height": 1000
    },
    "executionInfo": {
     "elapsed": 2179,
     "status": "ok",
     "timestamp": 1742724322094,
     "user": {
      "displayName": "Amir Sadra Khodadadi",
      "userId": "15849954129266561906"
     },
     "user_tz": -210
    },
    "id": "gN1jzzxD3LkL",
    "outputId": "89a420b4-38dc-4e84-83a1-b213e28f6966"
   },
   "outputs": [
    {
     "name": "stdout",
     "output_type": "stream",
     "text": [
      "Input1:\n"
     ]
    },
    {
     "data": {
      "image/png": "[encoded data removed]",
      "text/plain": [
       "<Figure size 640x480 with 1 Axes>"
      ]
     },
     "metadata": {},
     "output_type": "display_data"
    },
    {
     "name": "stdout",
     "output_type": "stream",
     "text": [
      "\n",
      "Result: tensor([[0.0015, 0.9985]], device='cuda:0', grad_fn=<SoftmaxBackward0>)\n",
      "Confidence of image being an 'O': 0.0014851558953523636\n",
      "Confidence of image being an 'X': 0.9985148310661316\n",
      "\n",
      "--------------------------\n",
      "\n",
      "Input2:\n"
     ]
    },
    {
     "data": {
      "image/png": "[encoded data removed]",
      "text/plain": [
       "<Figure size 640x480 with 1 Axes>"
      ]
     },
     "metadata": {},
     "output_type": "display_data"
    },
    {
     "name": "stdout",
     "output_type": "stream",
     "text": [
      "\n",
      "Result: tensor([[9.9985e-01, 1.5195e-04]], device='cuda:0', grad_fn=<SoftmaxBackward0>)\n",
      "Confidence of image being an 'O': 0.9998480081558228\n",
      "Confidence of image being an 'X': 0.0001519538927823305\n"
     ]
    }
   ],
   "source": [
    "# Index of an image in the dataset that corresponds to an X and O\n",
    "x_img_idx = 11\n",
    "o_img_idx = 0\n",
    "\n",
    "print(\"Input1:\")\n",
    "x_img = emnist_train[x_img_idx][0].unsqueeze(dim=0).to(DEVICE)\n",
    "plt.imshow(emnist_train[x_img_idx][0].reshape(28, 28),\n",
    "           cmap=plt.get_cmap('gray'))\n",
    "\n",
    "\n",
    "#####################################################################\n",
    "# TODO:\n",
    "# 1) Apply softmax to the output logits\n",
    "\n",
    "\n",
    "plt.show()\n",
    "output = emnist_net(x_img)\n",
    "\n",
    "# 1)\n",
    "result = F.softmax(output, dim=1)\n",
    "print(\"\\nResult:\", result)\n",
    "print(\"Confidence of image being an 'O':\", result[0, 0].item())\n",
    "print(\"Confidence of image being an 'X':\", result[0, 1].item())\n",
    "\n",
    "print(\"\\n--------------------------\\n\")\n",
    "\n",
    "print(\"Input2:\")\n",
    "o_img = emnist_train[o_img_idx][0].unsqueeze(dim=0).to(DEVICE)\n",
    "plt.imshow(emnist_train[o_img_idx][0].reshape(28, 28),\n",
    "           cmap=plt.get_cmap('gray'))\n",
    "plt.show()\n",
    "output = emnist_net(o_img)\n",
    "\n",
    "# 1)\n",
    "result = F.softmax(output, dim=1)\n",
    "print(\"\\nResult:\", result)\n",
    "print(\"Confidence of image being an 'O':\", result[0, 0].item())\n",
    "print(\"Confidence of image being an 'X':\", result[0, 1].item())"
   ]
  },
  {
   "cell_type": "markdown",
   "metadata": {
    "id": "DxL94P5w4Run"
   },
   "source": [
    "* This is evident from the softmax output, which shows the probabilities of the image belonging to each of the classes."
   ]
  },
  {
   "cell_type": "markdown",
   "metadata": {
    "id": "feTMx5vLwlCu"
   },
   "source": [
    "# Further tasks"
   ]
  },
  {
   "cell_type": "markdown",
   "metadata": {
    "id": "1127fc44"
   },
   "source": [
    "## Task 1: Compare with a Fully Connected Network\n",
    "\n",
    "Train a simple fully connected neural network (MLP) on the same dataset. Compare its performance with your CNN in terms of accuracy, number of parameters, and training time. Explain why CNN performs better or worse."
   ]
  },
  {
   "cell_type": "code",
   "execution_count": 28,
   "metadata": {
    "id": "e0-ZclNE8kY5"
   },
   "outputs": [
    {
     "name": "stdout",
     "output_type": "stream",
     "text": [
      "Total Parameters in MLP     108866\n"
     ]
    },
    {
     "data": {
      "application/vnd.jupyter.widget-view+json": {
       "model_id": "5d00e97b1cf64f2597be0a46c2ed0f03",
       "version_major": 2,
       "version_minor": 0
      },
      "text/plain": [
       "  0%|          | 0/300 [00:00<?, ?batch/s]"
      ]
     },
     "metadata": {},
     "output_type": "display_data"
    },
    {
     "data": {
      "application/vnd.jupyter.widget-view+json": {
       "model_id": "7870e41200b840d1831b8fb33823bfc5",
       "version_major": 2,
       "version_minor": 0
      },
      "text/plain": [
       "  0%|          | 0/300 [00:00<?, ?batch/s]"
      ]
     },
     "metadata": {},
     "output_type": "display_data"
    },
    {
     "data": {
      "application/vnd.jupyter.widget-view+json": {
       "model_id": "7a7518de8cc2401095d092fafe4cb320",
       "version_major": 2,
       "version_minor": 0
      },
      "text/plain": [
       "  0%|          | 0/300 [00:00<?, ?batch/s]"
      ]
     },
     "metadata": {},
     "output_type": "display_data"
    },
    {
     "data": {
      "application/vnd.jupyter.widget-view+json": {
       "model_id": "b8b4aa296c2144d9ad35a9b613d03656",
       "version_major": 2,
       "version_minor": 0
      },
      "text/plain": [
       "  0%|          | 0/300 [00:00<?, ?batch/s]"
      ]
     },
     "metadata": {},
     "output_type": "display_data"
    },
    {
     "data": {
      "application/vnd.jupyter.widget-view+json": {
       "model_id": "73a5c944fe0c443c9c42326cd185b299",
       "version_major": 2,
       "version_minor": 0
      },
      "text/plain": [
       "  0%|          | 0/300 [00:00<?, ?batch/s]"
      ]
     },
     "metadata": {},
     "output_type": "display_data"
    },
    {
     "name": "stdout",
     "output_type": "stream",
     "text": [
      " ----- MLP Training Time: 217.24s   -----\n",
      "------ MLP Test Accuracy: 99.31%    -----\n"
     ]
    }
   ],
   "source": [
    "# YOUR CODE HERE\n",
    "import torch\n",
    "import torch.nn as nn\n",
    "import torch.nn.functional as F\n",
    "\n",
    "class FullyConnectedNet(nn.Module):\n",
    "    def __init__(self):\n",
    "        super(FullyConnectedNet, self).__init__()\n",
    "        # Flatten 28x28 images to a vector of size 784\n",
    "        self.fc1 = nn.Linear(28 * 28, 128)  # Fully connected layer 1\n",
    "        self.fc2 = nn.Linear(128, 64)      # Fully connected layer 2\n",
    "        self.fc3 = nn.Linear(64, 2)        # Fully connected layer 3 (2 output classes)\n",
    "\n",
    "    def forward(self, x):\n",
    "        x = torch.flatten(x, 1)  # Flatten input\n",
    "        x = F.relu(self.fc1(x))  # ReLU activation for layer 1\n",
    "        x = F.relu(self.fc2(x))  # ReLU activation for layer 2\n",
    "        x = self.fc3(x)          # Output layer\n",
    "        return x\n",
    "\n",
    "\n",
    "mlp_net = FullyConnectedNet().to(DEVICE)\n",
    "print(\"Total Parameters in MLP {:10d}\".format(sum(p.numel() for p in mlp_net.parameters())))\n",
    "\n",
    "# Train the MLP\n",
    "import time\n",
    "start_time = time.time()\n",
    "train(mlp_net, DEVICE, train_loader, epochs=5)\n",
    "training_time = time.time() - start_time\n",
    "\n",
    "# Test MLP\n",
    "mlp_accuracy = test(mlp_net, DEVICE, test_loader)\n",
    "print(f\" ----- MLP Training Time: {training_time:.2f}s   -----\" )\n",
    "print(f\"------ MLP Test Accuracy: {mlp_accuracy:.2f}%    -----\")\n"
   ]
  },
  {
   "cell_type": "markdown",
   "metadata": {
    "id": "f8e07c31"
   },
   "source": [
    "## Task 2: Add Evaluation Metrics\n",
    "\n",
    "In addition to overall accuracy, compute and report:\n",
    "* Confusion matrix\n",
    "\n",
    "* Model performance metrics\n"
   ]
  },
  {
   "cell_type": "code",
   "execution_count": 29,
   "metadata": {
    "id": "wnWt-pip8nWM"
   },
   "outputs": [
    {
     "data": {
      "image/png": "[encoded data removed]",
      "text/plain": [
       "<Figure size 800x600 with 2 Axes>"
      ]
     },
     "metadata": {},
     "output_type": "display_data"
    },
    {
     "name": "stdout",
     "output_type": "stream",
     "text": [
      "Classification Metrics Report:\n",
      "               precision    recall  f1-score   support\n",
      "\n",
      "           O       0.99      0.99      0.99       800\n",
      "           X       0.99      0.99      0.99       800\n",
      "\n",
      "    accuracy                           0.99      1600\n",
      "   macro avg       0.99      0.99      0.99      1600\n",
      "weighted avg       0.99      0.99      0.99      1600\n",
      "\n"
     ]
    }
   ],
   "source": [
    "# YOUR CODE HERE\n",
    "from sklearn.metrics import confusion_matrix\n",
    "import matplotlib.pyplot as plt\n",
    "import seaborn as sns\n",
    "from sklearn.metrics import classification_report\n",
    "\n",
    "def compute_confusion_matrix(model, device, data_loader):\n",
    "    \"\"\"\n",
    "    Compute confusion matrix for the given model and dataset.\n",
    "    \"\"\"\n",
    "    model.eval()\n",
    "    all_preds = []\n",
    "    all_labels = []\n",
    "    with torch.no_grad():\n",
    "        for data in data_loader:\n",
    "            inputs, labels = data\n",
    "            inputs, labels = inputs.to(device), labels.to(device)\n",
    "            outputs = model(inputs)\n",
    "            _, preds = torch.max(outputs, 1)\n",
    "            all_preds.extend(preds.cpu().numpy())\n",
    "            all_labels.extend(labels.cpu().numpy())\n",
    "    \n",
    "    cm = confusion_matrix(all_labels, all_preds)\n",
    "    return cm\n",
    "\n",
    "def plot_confusion_matrix(cm, class_names):\n",
    "    plt.figure(figsize=(8, 6))\n",
    "    sns.heatmap(cm, annot=True, fmt='d', cmap='Blues', xticklabels=class_names, yticklabels=class_names)\n",
    "    plt.xlabel('Predicted Labels')\n",
    "    plt.ylabel('True Labels')\n",
    "    plt.title('Confusion Matrix')\n",
    "    plt.show()\n",
    "\n",
    "def compute_metrics(model, device, data_loader, class_names):\n",
    "    \"\"\"\n",
    "    Compute classification metrics for the given model and dataset.\n",
    "    \"\"\"\n",
    "    model.eval()\n",
    "    all_preds = []\n",
    "    all_labels = []\n",
    "    with torch.no_grad():\n",
    "        for data in data_loader:\n",
    "            inputs, labels = data\n",
    "            inputs, labels = inputs.to(device), labels.to(device)\n",
    "            outputs = model(inputs)\n",
    "            _, preds = torch.max(outputs, 1)\n",
    "            all_preds.extend(preds.cpu().numpy())\n",
    "            all_labels.extend(labels.cpu().numpy())\n",
    "    \n",
    "    report = classification_report(all_labels, all_preds, target_names=class_names)\n",
    "    return report\n",
    "\n",
    "class_names = ['O', 'X']  # Adjust based on your dataset\n",
    "cm = compute_confusion_matrix(emnist_net, DEVICE, test_loader)\n",
    "plot_confusion_matrix(cm, class_names)\n",
    "\n",
    "metrics_report = compute_metrics(emnist_net, DEVICE, test_loader, class_names)\n",
    "print(\"Classification Metrics Report:\\n\", metrics_report)\n"
   ]
  },
  {
   "cell_type": "markdown",
   "metadata": {
    "id": "6babfd36"
   },
   "source": [
    "## Task 3: Compare Optimizers\n",
    "\n",
    "Compare model performance when trained with SGD, Adam, and RMSProp. Plot the loss curves."
   ]
  },
  {
   "cell_type": "code",
   "execution_count": 34,
   "metadata": {},
   "outputs": [
    {
     "name": "stderr",
     "output_type": "stream",
     "text": [
      "100%|██████████| 10/10 [00:00<00:00, 37.09batch/s, loss=0.692]\n"
     ]
    },
    {
     "name": "stdout",
     "output_type": "stream",
     "text": [
      "Epoch 1, Average Loss: 0.7048\n"
     ]
    },
    {
     "name": "stderr",
     "output_type": "stream",
     "text": [
      "100%|██████████| 10/10 [00:00<00:00, 38.80batch/s, loss=0.695]\n"
     ]
    },
    {
     "name": "stdout",
     "output_type": "stream",
     "text": [
      "Epoch 2, Average Loss: 0.6985\n"
     ]
    },
    {
     "name": "stderr",
     "output_type": "stream",
     "text": [
      "100%|██████████| 10/10 [00:00<00:00, 41.13batch/s, loss=0.692]\n"
     ]
    },
    {
     "name": "stdout",
     "output_type": "stream",
     "text": [
      "Epoch 3, Average Loss: 0.6922\n"
     ]
    },
    {
     "name": "stderr",
     "output_type": "stream",
     "text": [
      "100%|██████████| 10/10 [00:00<00:00, 38.15batch/s, loss=0.686]\n"
     ]
    },
    {
     "name": "stdout",
     "output_type": "stream",
     "text": [
      "Epoch 4, Average Loss: 0.6860\n"
     ]
    },
    {
     "name": "stderr",
     "output_type": "stream",
     "text": [
      "100%|██████████| 10/10 [00:00<00:00, 42.87batch/s, loss=0.684]\n"
     ]
    },
    {
     "name": "stdout",
     "output_type": "stream",
     "text": [
      "Epoch 5, Average Loss: 0.6798\n"
     ]
    },
    {
     "name": "stderr",
     "output_type": "stream",
     "text": [
      "100%|██████████| 10/10 [00:00<00:00, 56.85batch/s, loss=0.678]\n"
     ]
    },
    {
     "name": "stdout",
     "output_type": "stream",
     "text": [
      "Epoch 6, Average Loss: 0.6737\n"
     ]
    },
    {
     "name": "stderr",
     "output_type": "stream",
     "text": [
      "100%|██████████| 10/10 [00:00<00:00, 94.19batch/s, loss=0.653]\n"
     ]
    },
    {
     "name": "stdout",
     "output_type": "stream",
     "text": [
      "Epoch 7, Average Loss: 0.6677\n"
     ]
    },
    {
     "name": "stderr",
     "output_type": "stream",
     "text": [
      "100%|██████████| 10/10 [00:00<00:00, 71.39batch/s, loss=0.66]\n"
     ]
    },
    {
     "name": "stdout",
     "output_type": "stream",
     "text": [
      "Epoch 8, Average Loss: 0.6616\n"
     ]
    },
    {
     "name": "stderr",
     "output_type": "stream",
     "text": [
      "100%|██████████| 10/10 [00:00<00:00, 87.51batch/s, loss=0.646]\n"
     ]
    },
    {
     "name": "stdout",
     "output_type": "stream",
     "text": [
      "Epoch 9, Average Loss: 0.6557\n"
     ]
    },
    {
     "name": "stderr",
     "output_type": "stream",
     "text": [
      "100%|██████████| 10/10 [00:00<00:00, 94.33batch/s, loss=0.64]\n"
     ]
    },
    {
     "name": "stdout",
     "output_type": "stream",
     "text": [
      "Epoch 10, Average Loss: 0.6497\n"
     ]
    },
    {
     "name": "stderr",
     "output_type": "stream",
     "text": [
      "100%|██████████| 10/10 [00:00<00:00, 80.03batch/s, loss=0.477]\n"
     ]
    },
    {
     "name": "stdout",
     "output_type": "stream",
     "text": [
      "Epoch 1, Average Loss: 0.6349\n"
     ]
    },
    {
     "name": "stderr",
     "output_type": "stream",
     "text": [
      "100%|██████████| 10/10 [00:00<00:00, 59.03batch/s, loss=0.24]\n"
     ]
    },
    {
     "name": "stdout",
     "output_type": "stream",
     "text": [
      "Epoch 2, Average Loss: 0.3311\n"
     ]
    },
    {
     "name": "stderr",
     "output_type": "stream",
     "text": [
      "100%|██████████| 10/10 [00:00<00:00, 72.16batch/s, loss=0.11]\n"
     ]
    },
    {
     "name": "stdout",
     "output_type": "stream",
     "text": [
      "Epoch 3, Average Loss: 0.1578\n"
     ]
    },
    {
     "name": "stderr",
     "output_type": "stream",
     "text": [
      "100%|██████████| 10/10 [00:00<00:00, 201.74batch/s, loss=0.0454]\n"
     ]
    },
    {
     "name": "stdout",
     "output_type": "stream",
     "text": [
      "Epoch 4, Average Loss: 0.0691\n"
     ]
    },
    {
     "name": "stderr",
     "output_type": "stream",
     "text": [
      "100%|██████████| 10/10 [00:00<00:00, 159.30batch/s, loss=0.019]\n"
     ]
    },
    {
     "name": "stdout",
     "output_type": "stream",
     "text": [
      "Epoch 5, Average Loss: 0.0291\n"
     ]
    },
    {
     "name": "stderr",
     "output_type": "stream",
     "text": [
      "100%|██████████| 10/10 [00:00<00:00, 191.26batch/s, loss=0.0109]\n"
     ]
    },
    {
     "name": "stdout",
     "output_type": "stream",
     "text": [
      "Epoch 6, Average Loss: 0.0140\n"
     ]
    },
    {
     "name": "stderr",
     "output_type": "stream",
     "text": [
      "100%|██████████| 10/10 [00:00<00:00, 163.54batch/s, loss=0.00694]\n"
     ]
    },
    {
     "name": "stdout",
     "output_type": "stream",
     "text": [
      "Epoch 7, Average Loss: 0.0084\n"
     ]
    },
    {
     "name": "stderr",
     "output_type": "stream",
     "text": [
      "100%|██████████| 10/10 [00:00<00:00, 203.80batch/s, loss=0.00489]\n"
     ]
    },
    {
     "name": "stdout",
     "output_type": "stream",
     "text": [
      "Epoch 8, Average Loss: 0.0058\n"
     ]
    },
    {
     "name": "stderr",
     "output_type": "stream",
     "text": [
      "100%|██████████| 10/10 [00:00<00:00, 180.05batch/s, loss=0.00388]\n"
     ]
    },
    {
     "name": "stdout",
     "output_type": "stream",
     "text": [
      "Epoch 9, Average Loss: 0.0045\n"
     ]
    },
    {
     "name": "stderr",
     "output_type": "stream",
     "text": [
      "100%|██████████| 10/10 [00:00<00:00, 160.44batch/s, loss=0.00344]\n"
     ]
    },
    {
     "name": "stdout",
     "output_type": "stream",
     "text": [
      "Epoch 10, Average Loss: 0.0037\n"
     ]
    },
    {
     "name": "stderr",
     "output_type": "stream",
     "text": [
      "100%|██████████| 10/10 [00:00<00:00, 186.35batch/s, loss=0.0138]\n"
     ]
    },
    {
     "name": "stdout",
     "output_type": "stream",
     "text": [
      "Epoch 1, Average Loss: 0.1508\n"
     ]
    },
    {
     "name": "stderr",
     "output_type": "stream",
     "text": [
      "100%|██████████| 10/10 [00:00<00:00, 174.48batch/s, loss=0.00558]\n"
     ]
    },
    {
     "name": "stdout",
     "output_type": "stream",
     "text": [
      "Epoch 2, Average Loss: 0.0079\n"
     ]
    },
    {
     "name": "stderr",
     "output_type": "stream",
     "text": [
      "100%|██████████| 10/10 [00:00<00:00, 192.30batch/s, loss=0.00307]\n"
     ]
    },
    {
     "name": "stdout",
     "output_type": "stream",
     "text": [
      "Epoch 3, Average Loss: 0.0038\n"
     ]
    },
    {
     "name": "stderr",
     "output_type": "stream",
     "text": [
      "100%|██████████| 10/10 [00:00<00:00, 221.03batch/s, loss=0.00234]\n"
     ]
    },
    {
     "name": "stdout",
     "output_type": "stream",
     "text": [
      "Epoch 4, Average Loss: 0.0025\n"
     ]
    },
    {
     "name": "stderr",
     "output_type": "stream",
     "text": [
      "100%|██████████| 10/10 [00:00<00:00, 179.16batch/s, loss=0.00158]\n"
     ]
    },
    {
     "name": "stdout",
     "output_type": "stream",
     "text": [
      "Epoch 5, Average Loss: 0.0018\n"
     ]
    },
    {
     "name": "stderr",
     "output_type": "stream",
     "text": [
      "100%|██████████| 10/10 [00:00<00:00, 207.48batch/s, loss=0.00119]\n"
     ]
    },
    {
     "name": "stdout",
     "output_type": "stream",
     "text": [
      "Epoch 6, Average Loss: 0.0014\n"
     ]
    },
    {
     "name": "stderr",
     "output_type": "stream",
     "text": [
      "100%|██████████| 10/10 [00:00<00:00, 196.36batch/s, loss=0.00111]\n"
     ]
    },
    {
     "name": "stdout",
     "output_type": "stream",
     "text": [
      "Epoch 7, Average Loss: 0.0011\n"
     ]
    },
    {
     "name": "stderr",
     "output_type": "stream",
     "text": [
      "100%|██████████| 10/10 [00:00<00:00, 174.10batch/s, loss=0.000875]\n"
     ]
    },
    {
     "name": "stdout",
     "output_type": "stream",
     "text": [
      "Epoch 8, Average Loss: 0.0009\n"
     ]
    },
    {
     "name": "stderr",
     "output_type": "stream",
     "text": [
      "100%|██████████| 10/10 [00:00<00:00, 222.92batch/s, loss=0.000754]\n"
     ]
    },
    {
     "name": "stdout",
     "output_type": "stream",
     "text": [
      "Epoch 9, Average Loss: 0.0008\n"
     ]
    },
    {
     "name": "stderr",
     "output_type": "stream",
     "text": [
      "100%|██████████| 10/10 [00:00<00:00, 159.82batch/s, loss=0.000692]\n"
     ]
    },
    {
     "name": "stdout",
     "output_type": "stream",
     "text": [
      "Epoch 10, Average Loss: 0.0007\n"
     ]
    },
    {
     "data": {
      "image/png": "[encoded data removed]",
      "text/plain": [
       "<Figure size 1000x600 with 1 Axes>"
      ]
     },
     "metadata": {},
     "output_type": "display_data"
    }
   ],
   "source": [
    "import torch\n",
    "import torch.nn as nn\n",
    "import torch.nn.functional as F\n",
    "from tqdm import tqdm\n",
    "import matplotlib.pyplot as plt\n",
    "\n",
    "# Define the EMNIST_Net model\n",
    "class EMNIST_Net(nn.Module):\n",
    "    def __init__(self):\n",
    "        super(EMNIST_Net, self).__init__()\n",
    "        # Convolutional layers\n",
    "        self.conv1 = nn.Conv2d(in_channels=1, out_channels=32, kernel_size=3)\n",
    "        self.conv2 = nn.Conv2d(in_channels=32, out_channels=64, kernel_size=3)\n",
    "\n",
    "        # Pooling layer\n",
    "        self.pool = nn.MaxPool2d(kernel_size=2, stride=2)\n",
    "\n",
    "        # Fully connected layers\n",
    "        self.fc1 = nn.Linear(in_features=64 * 12 * 12, out_features=128)\n",
    "        self.fc2 = nn.Linear(in_features=128, out_features=2)\n",
    "\n",
    "    def forward(self, x):\n",
    "        x = F.relu(self.conv1(x))\n",
    "        x = self.pool(F.relu(self.conv2(x)))\n",
    "        x = torch.flatten(x, 1)\n",
    "        x = F.relu(self.fc1(x))\n",
    "        x = self.fc2(x)\n",
    "        return x\n",
    "\n",
    "\n",
    "# Training function with configurable learning rate\n",
    "def train_with_loss_tracking(model, device, train_loader, epochs, optimizer_type, learning_rate=0.001):\n",
    "    model.train()\n",
    "    criterion = nn.CrossEntropyLoss()\n",
    "    optimizer = optimizer_type(model.parameters(), lr=learning_rate)\n",
    "    loss_values = []\n",
    "\n",
    "    for epoch in range(epochs):\n",
    "        total_loss = 0\n",
    "        with tqdm(train_loader, unit=\"batch\") as tepoch:\n",
    "            for data, target in tepoch:\n",
    "                data, target = data.to(device), target.to(device)\n",
    "                optimizer.zero_grad()\n",
    "\n",
    "                output = model(data)\n",
    "                loss = criterion(output, target)\n",
    "\n",
    "                if torch.isnan(loss):\n",
    "                    print(\"NaN detected in loss! Skipping update for this batch.\")\n",
    "                    continue\n",
    "\n",
    "                loss.backward()\n",
    "                torch.nn.utils.clip_grad_norm_(model.parameters(), max_norm=1.0)\n",
    "                optimizer.step()\n",
    "\n",
    "                total_loss += loss.item()\n",
    "                tepoch.set_postfix(loss=loss.item())\n",
    "\n",
    "        average_loss = total_loss / len(train_loader)\n",
    "        loss_values.append(average_loss)\n",
    "        print(f\"Epoch {epoch+1}, Average Loss: {average_loss:.4f}\")\n",
    "\n",
    "    return loss_values\n",
    "\n",
    "\n",
    "# Plotting function\n",
    "def plot_loss_curves(losses_dict):\n",
    "    plt.figure(figsize=(10, 6))\n",
    "    for optimizer_name, loss_values in losses_dict.items():\n",
    "        plt.plot(loss_values, label=optimizer_name)\n",
    "    plt.xlabel('Epochs')\n",
    "    plt.ylabel('Loss')\n",
    "    plt.title('Loss Curves for Different Optimizers')\n",
    "    plt.legend()\n",
    "    plt.grid(True)\n",
    "    plt.show()\n",
    "\n",
    "\n",
    "# Main execution\n",
    "if __name__ == \"__main__\":\n",
    "    DEVICE = \"cuda\" if torch.cuda.is_available() else \"cpu\"\n",
    "    \n",
    "    # Dummy dataset (replace with real EMNIST later)\n",
    "    train_loader = torch.utils.data.DataLoader(\n",
    "        [(torch.randn(1, 28, 28), torch.tensor(0)) for _ in range(100)],\n",
    "        batch_size=10, shuffle=True\n",
    "    )\n",
    "\n",
    "    # Learning rate (adjust here!)\n",
    "    learning_rate = 1e-5\n",
    "\n",
    "    # Initialize models\n",
    "    sgd_model = EMNIST_Net().to(DEVICE)\n",
    "    adam_model = EMNIST_Net().to(DEVICE)\n",
    "    rmsprop_model = EMNIST_Net().to(DEVICE)\n",
    "\n",
    "    # Train with different optimizers\n",
    "    sgd_losses = train_with_loss_tracking(sgd_model, DEVICE, train_loader, epochs=10,\n",
    "                                          optimizer_type=torch.optim.SGD,\n",
    "                                          learning_rate=1e-4)\n",
    "\n",
    "    adam_losses = train_with_loss_tracking(adam_model, DEVICE, train_loader, epochs=10,\n",
    "                                           optimizer_type=torch.optim.Adam,\n",
    "                                           learning_rate=learning_rate)\n",
    "\n",
    "    rmsprop_losses = train_with_loss_tracking(rmsprop_model, DEVICE, train_loader, epochs=10,\n",
    "                                              optimizer_type=torch.optim.RMSprop,\n",
    "                                              learning_rate=learning_rate)\n",
    "\n",
    "    # Plot loss curves\n",
    "    losses_dict = {\n",
    "        \"SGD\": sgd_losses,\n",
    "        \"Adam\": adam_losses,\n",
    "        \"RMSProp\": rmsprop_losses,\n",
    "    }\n",
    "\n",
    "    plot_loss_curves(losses_dict)\n"
   ]
  },
  {
   "cell_type": "markdown",
   "metadata": {},
   "source": [
    "When comparing optimizers, we observe notable differences in convergence speed, stability, and final performance.\n",
    "$\\\\$ \n",
    "**`SGD (Stochastic Gradient Descent)`** tends to converge more slowly and can be less stable, especially without careful tuning of the learning rate and momentum. While it can eventually reach good minima, it may oscillate during training and is sensitive to the scale of gradients. On the other hand, \n",
    "$\\\\$ \n",
    "**`Adam (Adaptive Moment Estimation)`** is known for its fast convergence and high stability, often achieving lower final loss values compared to SGD. It adapts the learning rate for each parameter, making it a solid default choice for many tasks, though it may overfit when trained on small datasets. Similarly, 7\n",
    "$\\\\$ \n",
    "**`RMSprop`** also converges quickly and remains stable during training, with final loss performance typically comparable to Adam. It is particularly effective in non-stationary settings where the input distribution changes over time."
   ]
  },
  {
   "cell_type": "markdown",
   "metadata": {
    "id": "Fsob63gJ-2bt"
   },
   "source": [
    "## Task 4: Compare Activation Functions\n",
    "\n",
    "Replace ReLU with Tanh or LeakyReLU. How does that affect performance?\n",
    "\n",
    "`answer:`\n",
    "Rectified Linear Unit (ReLU) is a computationally efficient activation function that directly outputs positive inputs, fostering sparsity by keeping neurons either active or inactive, which helps address the vanishing gradients problem in deep networks and makes it a default choice for most tasks. However, it faces the dying ReLU issue where neurons become inactive during training, outputting only zeros, and its non-smooth nature might make it unsuitable for certain data types. The hyperbolic tangent (Tanh) maps inputs to a range between -1 and 1, offering zero-centered outputs and mitigating gradient vanishing to some extent, which improves bias reduction during training, though its slower convergence and susceptibility to vanishing gradients for extreme inputs make it less ideal than ReLU in some cases. Leaky ReLU modifies ReLU by introducing a small, non-zero gradient for negative inputs, addressing the dying ReLU problem and often enabling faster convergence than Tanh in deep networks, although it still faces challenges with vanishing gradients, albeit to a lesser extent."
   ]
  },
  {
   "cell_type": "code",
   "execution_count": 36,
   "metadata": {
    "id": "YIpgw8uG--6k"
   },
   "outputs": [
    {
     "name": "stderr",
     "output_type": "stream",
     "text": [
      "100%|██████████| 10/10 [00:01<00:00,  7.72batch/s, loss=0.0819]\n",
      "100%|██████████| 10/10 [00:01<00:00,  7.94batch/s, loss=0.0221]\n",
      "100%|██████████| 10/10 [00:01<00:00,  7.90batch/s, loss=0.0124]\n",
      "100%|██████████| 10/10 [00:01<00:00,  8.00batch/s, loss=0.00794]\n",
      "100%|██████████| 10/10 [00:01<00:00,  7.94batch/s, loss=0.00592]\n",
      "100%|██████████| 10/10 [00:01<00:00,  7.83batch/s, loss=0.0264]\n",
      "100%|██████████| 10/10 [00:01<00:00,  7.76batch/s, loss=0.0146]\n",
      "100%|██████████| 10/10 [00:01<00:00,  7.97batch/s, loss=0.0103]\n",
      "100%|██████████| 10/10 [00:01<00:00,  7.95batch/s, loss=0.00797]\n",
      "100%|██████████| 10/10 [00:01<00:00,  7.58batch/s, loss=0.00632]\n",
      "100%|██████████| 10/10 [00:01<00:00,  7.70batch/s, loss=0.0448]\n",
      "100%|██████████| 10/10 [00:01<00:00,  7.27batch/s, loss=0.0165]\n",
      "100%|██████████| 10/10 [00:01<00:00,  7.28batch/s, loss=0.00913]\n",
      "100%|██████████| 10/10 [00:01<00:00,  7.41batch/s, loss=0.00619]\n",
      "100%|██████████| 10/10 [00:01<00:00,  7.17batch/s, loss=0.00462]\n"
     ]
    }
   ],
   "source": [
    "# YOURCODE HERE\n",
    "\n",
    "class EMNIST_Net_Tanh(nn.Module):\n",
    "    def __init__(self):\n",
    "        super(EMNIST_Net_Tanh, self).__init__()\n",
    "        self.conv1 = nn.Conv2d(in_channels=1, out_channels=32, kernel_size=3)\n",
    "        self.conv2 = nn.Conv2d(in_channels=32, out_channels=64, kernel_size=3)\n",
    "        self.pool = nn.MaxPool2d(kernel_size=2, stride=2)\n",
    "        self.fc1 = nn.Linear(in_features=64 * 12 * 12, out_features=128)\n",
    "        self.fc2 = nn.Linear(in_features=128, out_features=2)\n",
    "\n",
    "    def forward(self, x):\n",
    "        x = torch.tanh(self.conv1(x))\n",
    "        x = self.pool(torch.tanh(self.conv2(x)))\n",
    "        x = torch.flatten(x, 1)\n",
    "        x = torch.tanh(self.fc1(x))\n",
    "        x = self.fc2(x)\n",
    "        return x\n",
    "    \n",
    "class EMNIST_Net_LeakyReLU(nn.Module):\n",
    "    def __init__(self):\n",
    "        super(EMNIST_Net_LeakyReLU, self).__init__()\n",
    "        self.conv1 = nn.Conv2d(in_channels=1, out_channels=32, kernel_size=3)\n",
    "        self.conv2 = nn.Conv2d(in_channels=32, out_channels=64, kernel_size=3)\n",
    "        self.pool = nn.MaxPool2d(kernel_size=2, stride=2)\n",
    "        self.fc1 = nn.Linear(in_features=64 * 12 * 12, out_features=128)\n",
    "        self.fc2 = nn.Linear(in_features=128, out_features=2)\n",
    "\n",
    "    def forward(self, x):\n",
    "        x = F.leaky_relu(self.conv1(x), negative_slope=0.01)\n",
    "        x = self.pool(F.leaky_relu(self.conv2(x), negative_slope=0.01))\n",
    "        x = torch.flatten(x, 1)\n",
    "        x = F.leaky_relu(self.fc1(x), negative_slope=0.01)\n",
    "        x = self.fc2(x)\n",
    "        return x\n",
    "\n",
    "# Train and test the ReLU-based network\n",
    "emnist_relu_net = EMNIST_Net().to(DEVICE)\n",
    "train(emnist_relu_net, DEVICE, train_loader, epochs=5)\n",
    "relu_accuracy = test(emnist_relu_net, DEVICE, test_loader)\n",
    "\n",
    "# Train and test the Tanh-based network\n",
    "emnist_tanh_net = EMNIST_Net_Tanh().to(DEVICE)\n",
    "train(emnist_tanh_net, DEVICE, train_loader, epochs=5)\n",
    "tanh_accuracy = test(emnist_tanh_net, DEVICE, test_loader)\n",
    "\n",
    "# Train and test the LeakyReLU-based network\n",
    "emnist_leaky_relu_net = EMNIST_Net_LeakyReLU().to(DEVICE)\n",
    "train(emnist_leaky_relu_net, DEVICE, train_loader, epochs=5)\n",
    "leaky_relu_accuracy = test(emnist_leaky_relu_net, DEVICE, test_loader)\n"
   ]
  },
  {
   "cell_type": "markdown",
   "metadata": {
    "id": "5c5kdo9rAV7X"
   },
   "source": [
    "## Task 5: Train a Deeper CNN\n",
    "\n",
    "Extend the network with your desired additional layers. Does it help or hurt performance?\n",
    "\n",
    "`answer:`\n",
    "Extending a Convolutional Neural Network (CNN) with additional layers can enhance its ability to capture complex patterns and features in the data, potentially improving performance, especially for tasks with high-dimensional or intricate inputs like image classification. For example, adding convolutional layers can help extract more detailed spatial features, while incorporating additional pooling layers can reduce dimensionality and prevent overfitting. \n",
    "\n",
    "`However`, deeper networks may sometimes hurt performance due to increased computational complexity, higher risk of `overfitting`, or the `vanishing gradients` problem as we faced also in this code, particularly if proper techniques like batch normalization, residual connections, or sufficient regularization aren't applied. It's critical to experiment and monitor metrics such as accuracy, loss, and inference time to determine whether the modifications improve the network's overall performance for the specific task at hand. "
   ]
  },
  {
   "cell_type": "code",
   "execution_count": 45,
   "metadata": {},
   "outputs": [
    {
     "name": "stdout",
     "output_type": "stream",
     "text": [
      "Epoch 1, Average Loss: 0.7026, Accuracy: 15.00%\n",
      "Epoch 2, Average Loss: 0.6934, Accuracy: 51.00%\n",
      "Epoch 3, Average Loss: 0.6865, Accuracy: 80.00%\n",
      "Epoch 4, Average Loss: 0.6775, Accuracy: 99.00%\n",
      "Epoch 5, Average Loss: 0.6688, Accuracy: 100.00%\n",
      "Epoch 6, Average Loss: 0.6609, Accuracy: 100.00%\n",
      "Epoch 7, Average Loss: 0.6535, Accuracy: 100.00%\n",
      "Epoch 8, Average Loss: 0.6457, Accuracy: 100.00%\n",
      "Epoch 9, Average Loss: 0.6376, Accuracy: 100.00%\n",
      "Epoch 10, Average Loss: 0.6299, Accuracy: 100.00%\n"
     ]
    }
   ],
   "source": [
    "import torch\n",
    "import torch.nn as nn\n",
    "import torch.nn.functional as F\n",
    "import torch.optim as optim\n",
    "\n",
    "# Extended EMNIST_Net with deeper layers\n",
    "class Extended_EMNIST_Net(nn.Module):\n",
    "    def __init__(self):\n",
    "        super(Extended_EMNIST_Net, self).__init__()\n",
    "\n",
    "        # Convolutional layers\n",
    "        self.conv1 = nn.Conv2d(in_channels=1, out_channels=32, kernel_size=3)\n",
    "        self.conv2 = nn.Conv2d(in_channels=32, out_channels=64, kernel_size=3)\n",
    "        self.conv3 = nn.Conv2d(in_channels=64, out_channels=128, kernel_size=3)\n",
    "        self.conv4 = nn.Conv2d(in_channels=128, out_channels=256, kernel_size=3)\n",
    "\n",
    "        # Max pooling layer\n",
    "        self.pool = nn.MaxPool2d(kernel_size=2, stride=2)\n",
    "\n",
    "        # Fully connected layers\n",
    "        self.fc1 = nn.Linear(in_features=256 * 1 * 1, out_features=512)  # Fixed to 256\n",
    "        self.fc2 = nn.Linear(in_features=512, out_features=128)\n",
    "        self.fc3 = nn.Linear(in_features=128, out_features=2)\n",
    "\n",
    "        # Dropout for regularization\n",
    "        self.dropout = nn.Dropout(p=0.5)\n",
    "\n",
    "    def forward(self, x):\n",
    "        x = F.relu(self.conv1(x))\n",
    "        x = self.pool(F.relu(self.conv2(x)))\n",
    "        x = self.pool(F.relu(self.conv3(x)))\n",
    "        x = self.pool(F.relu(self.conv4(x)))\n",
    "        x = torch.flatten(x, 1)\n",
    "        x = F.relu(self.fc1(x))\n",
    "        x = self.dropout(x)\n",
    "        x = F.relu(self.fc2(x))\n",
    "        x = self.fc3(x)\n",
    "        return x\n",
    "\n",
    "# Initialize the extended network and other components\n",
    "DEVICE = \"cuda\" if torch.cuda.is_available() else \"cpu\"\n",
    "model = Extended_EMNIST_Net().to(DEVICE)\n",
    "\n",
    "# Example DataLoader\n",
    "train_loader = torch.utils.data.DataLoader(\n",
    "    [(torch.randn(1, 28, 28), torch.tensor(0)) for _ in range(100)],\n",
    "    batch_size=10, shuffle=True\n",
    ")\n",
    "\n",
    "# Training function with loss and accuracy tracking\n",
    "def train_with_loss_and_accuracy_tracking(model, device, train_loader, epochs, optimizer_type):\n",
    "    model.train()\n",
    "    criterion = nn.CrossEntropyLoss()\n",
    "    optimizer = optimizer_type(model.parameters(), lr=0.001)\n",
    "    loss_values = []\n",
    "    accuracy_values = []\n",
    "\n",
    "    for epoch in range(epochs):\n",
    "        total_loss = 0\n",
    "        correct = 0\n",
    "        total = 0\n",
    "\n",
    "        for data, target in train_loader:\n",
    "            data, target = data.to(device), target.to(device)\n",
    "            optimizer.zero_grad()\n",
    "\n",
    "            # Forward pass\n",
    "            output = model(data)\n",
    "            loss = criterion(output, target)\n",
    "\n",
    "            if torch.isnan(loss):\n",
    "                print(\"NaN detected in loss! Skipping update for this batch.\")\n",
    "                continue\n",
    "\n",
    "            # Compute accuracy\n",
    "            _, predicted = torch.max(output, 1)  # Get the index of the max log-probability\n",
    "            total += target.size(0)\n",
    "            correct += (predicted == target).sum().item()\n",
    "\n",
    "            # Backward pass and parameter update\n",
    "            loss.backward()\n",
    "            optimizer.step()\n",
    "            total_loss += loss.item()\n",
    "\n",
    "        average_loss = total_loss / len(train_loader)\n",
    "        accuracy = 100 * correct / total\n",
    "        loss_values.append(average_loss)\n",
    "        accuracy_values.append(accuracy)\n",
    "        print(f\"Epoch {epoch+1}, Average Loss: {average_loss:.4f}, Accuracy: {accuracy:.2f}%\")\n",
    "\n",
    "    return loss_values, accuracy_values\n",
    "\n",
    "# Main execution\n",
    "if __name__ == \"__main__\":\n",
    "    sgd_model = Extended_EMNIST_Net().to(DEVICE)\n",
    "    sgd_losses, sgd_accuracies = train_with_loss_and_accuracy_tracking(\n",
    "        sgd_model, DEVICE, train_loader, epochs=10, optimizer_type=optim.SGD\n",
    "    )"
   ]
  }
 ],
 "metadata": {
  "accelerator": "GPU",
  "colab": {
   "gpuType": "T4",
   "provenance": []
  },
  "kernelspec": {
   "display_name": "Python 3",
   "name": "python3"
  },
  "language_info": {
   "codemirror_mode": {
    "name": "ipython",
    "version": 3
   },
   "file_extension": ".py",
   "mimetype": "text/x-python",
   "name": "python",
   "nbconvert_exporter": "python",
   "pygments_lexer": "ipython3",
   "version": "3.12.3"
  }
 },
 "nbformat": 4,
 "nbformat_minor": 0
}
