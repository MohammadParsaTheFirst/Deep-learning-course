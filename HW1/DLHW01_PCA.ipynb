{
  "cells": [
    {
      "cell_type": "markdown",
      "metadata": {
        "id": "KaSUAJsaP40o"
      },
      "source": [
        "<font face=\"Times New Roman\" size=5>\n",
        "<div dir=rtl align=\"center\">\n",
        "<font face=\"Times New Roman\" size=5>\n",
        "In The Name of God\n",
        "</font>\n",
        "<br>\n",
        "<img src=\"https://logoyar.com/content/wp-content/uploads/2021/04/sharif-university-logo.png\" alt=\"University Logo\" width=\"150\" height=\"150\">\n",
        "<br>\n",
        "<font face=\"Times New Roman\" size=4 align=center>\n",
        "Sharif University of Technology - Department of Electrical Engineering\n",
        "</font>\n",
        "<br>\n",
        "<font color=\"#008080\" size=6>\n",
        "Deep Learning \n",
        "</font>\n",
        "<hr/>\n",
        "<font color=\"#800080\" size=5>\n",
        "Assignment 1 : Introduction to Machine Learning\n",
        "<br>\n",
        "</font>\n",
        "<font size=5>\n",
        "Instructor: Dr. M. Bejani\n",
        "<br>\n",
        "</font>\n",
        "<font size=4>\n",
        "Spring 2025\n",
        "<br>\n",
        "</font>\n",
        "<font face=\"Times New Roman\" size=4>\n",
        "Deadline: TBD\n",
        "</font>\n",
        "<hr>\n",
        "<font color='red'  size=4>\n",
        "Note: It is highly recommended to run your notebook on Google Colab or Kaggle\n",
        "<br>\n",
        "</font>\n",
        "<font face=\"Times New Roman\" size=4 align=center>\n",
        "Feel free to ask your questions in Telegram : @amirhosseinjadidi\n",
        "</font>\n",
        "<br>\n",
        "<hr>\n",
        "</div></font>"
      ]
    },
    {
      "cell_type": "code",
      "execution_count": 1,
      "metadata": {},
      "outputs": [],
      "source": [
        "Name = \"MohammadParsa Dini\"\n",
        "StudentId = \"400101204\""
      ]
    },
    {
      "cell_type": "markdown",
      "metadata": {
        "id": "a0qcUXraP_sL"
      },
      "source": [
        "# Dimensionality Reduction (PCA)"
      ]
    },
    {
      "cell_type": "markdown",
      "metadata": {
        "id": "cs3Cg5pDQn6G"
      },
      "source": [
        "The primary purpose of this exercise is to implement PCA from scratch and without prepared functions in sklearn.\n",
        "\n",
        "Then we want to compare and analyze results after and before dimensionality reduction."
      ]
    },
    {
      "cell_type": "code",
      "execution_count": 1,
      "metadata": {
        "id": "JFyhxBvsmhYo"
      },
      "outputs": [
        {
          "name": "stdout",
          "output_type": "stream",
          "text": [
            "cuda\n"
          ]
        }
      ],
      "source": [
        "import pandas as pd\n",
        "import numpy as np\n",
        "import os\n",
        "import cv2\n",
        "import imutils\n",
        "import torch\n",
        "\n",
        "if torch.cuda.is_available():\n",
        "    torch.device = 'cuda'\n",
        "else :\n",
        "    torch.device = 'cpu'\n",
        "\n",
        "print(torch.device)"
      ]
    },
    {
      "cell_type": "markdown",
      "metadata": {
        "id": "EE33QEViR4N5"
      },
      "source": [
        "# Dataset"
      ]
    },
    {
      "cell_type": "markdown",
      "metadata": {
        "id": "az4HqR6tSe1-"
      },
      "source": [
        "Brain Tumor dataset is attached to the notebook. It has two folders (yes and no).\n",
        "\n",
        "'yes' folder contains MRI images of patients with Tumor and 'no' folder contains images of healthy people.\n",
        "\n",
        "<font color='blue'  size=3>\n",
        "Note: We wish no one would be in 'yes' folder in real life.\n"
      ]
    },
    {
      "cell_type": "markdown",
      "metadata": {
        "id": "doKqwsBPSO4j"
      },
      "source": [
        "## Preprocess"
      ]
    },
    {
      "cell_type": "code",
      "execution_count": 2,
      "metadata": {
        "id": "FVHj5x3_naLv"
      },
      "outputs": [],
      "source": [
        "### Cropping is a suggested tool for preprocessing this dataset\n",
        "\n",
        "def crop_brain(image):\n",
        "\n",
        "    # Convert the image to grayscale, and blur it slightly\n",
        "    gray = cv2.cvtColor(image, cv2.COLOR_BGR2GRAY)\n",
        "    gray = cv2.GaussianBlur(gray, (5, 5), 0)\n",
        "\n",
        "    thresh = cv2.threshold(gray, 45, 255, cv2.THRESH_BINARY)[1]\n",
        "    thresh = cv2.erode(thresh, None, iterations=2)\n",
        "    thresh = cv2.dilate(thresh, None, iterations=2)\n",
        "\n",
        "    # Find contours in thresholded image, then grab the largest one\n",
        "    cnts = cv2.findContours(thresh.copy(), cv2.RETR_EXTERNAL, cv2.CHAIN_APPROX_SIMPLE)\n",
        "    cnts = imutils.grab_contours(cnts)\n",
        "    c = max(cnts, key=cv2.contourArea)\n",
        "    # extreme points\n",
        "    extLeft = tuple(c[c[:, :, 0].argmin()][0])\n",
        "    extRight = tuple(c[c[:, :, 0].argmax()][0])\n",
        "    extTop = tuple(c[c[:, :, 1].argmin()][0])\n",
        "    extBot = tuple(c[c[:, :, 1].argmax()][0])\n",
        "\n",
        "    # crop new image out of the original image using the four extreme points (left, right, top, bottom)\n",
        "    new_image = image[extTop[1]:extBot[1], extLeft[0]:extRight[0]]\n",
        "\n",
        "    return new_image"
      ]
    },
    {
      "cell_type": "markdown",
      "metadata": {
        "id": "AOgeCdZmZzpD"
      },
      "source": [
        "## Load data"
      ]
    },
    {
      "cell_type": "code",
      "execution_count": 3,
      "metadata": {
        "id": "39qjjOP3qh0W"
      },
      "outputs": [
        {
          "name": "stdout",
          "output_type": "stream",
          "text": [
            "C:\\Users\\USER\\Desktop\\DLHW01\\DLHW01\\BrainTumor\\yes\n",
            "C:\\Users\\USER\\Desktop\\DLHW01\\DLHW01\\BrainTumor\\no\n",
            "Cell execution time: 0.81 seconds\n"
          ]
        }
      ],
      "source": [
        "import os\n",
        "import time\n",
        "from sklearn.utils import shuffle\n",
        "\n",
        "start_time = time.time()\n",
        "IMG_WIDTH, IMG_HEIGHT = (128,128)\n",
        "DATASET_PATH = \"C:\\\\Users\\\\USER\\\\Desktop\\\\DLHW01\\\\DLHW01\\\\BrainTumor\"\n",
        "#####################################################################################\n",
        "#                          COMPLETE THE FOLLOWING SECTION                           #\n",
        "#####################################################################################\n",
        "#  load data (use cv2) then crop (use function above) and after that resize each image to (128,128) then change it to\n",
        "#  one channel image (gray scale not RGB)\n",
        "#  assign lablel 1 for patients with tumor and 0 otherwise\n",
        "#####################################################################################\n",
        "# TODO\n",
        "def load_and_process_data(data_path):\n",
        "    images = []\n",
        "    labels = []\n",
        "    classes = [\"yes\", \"no\"]\n",
        "    for class_name in classes:\n",
        "        class_path = os.path.join(data_path, class_name)\n",
        "        print(class_path)\n",
        "        for file_name in os.listdir(class_path):\n",
        "            if file_name.endswith((\"JPG\",'jpg',\"png\",\"jpeg\")):\n",
        "                img_path = os.path.join(class_path ,file_name)\n",
        "                img = cv2.imread(img_path)\n",
        "                if img is not None:\n",
        "                    try: \n",
        "                        cropped_img = crop_brain(img)\n",
        "                    except:\n",
        "                        cropped_img = img \n",
        "                        print(f'warning --- cropping failed for {file_name}')\n",
        "                    gray_img = cv2.cvtColor(cropped_img, cv2.COLOR_RGB2GRAY)\n",
        "                    resized_img = cv2.resize(gray_img, (IMG_WIDTH, IMG_HEIGHT))\n",
        "                    # resized_img = resized_img.astype('float32') / 255.0\n",
        "                    images.append(resized_img)\n",
        "                    if class_name == \"yes\":\n",
        "                        label = 1\n",
        "                    else :\n",
        "                        label=0\n",
        "                    labels.append(label)\n",
        "            else:\n",
        "                print(file_name)\n",
        "    return images, labels    \n",
        "\n",
        "\n",
        "####################################################################################\n",
        "#                                   THE END                                        #\n",
        "####################################################################################\n",
        "\n",
        "X, y = load_and_process_data(DATASET_PATH)\n",
        "X = np.array(X)\n",
        "y = np.array(y)\n",
        "# X = X.reshape(X.shape[0], -1)\n",
        "#####################################################################################\n",
        "#                          COMPLETE THE FOLLOWING SECTION                           #\n",
        "#####################################################################################\n",
        "#  shuffle data (becareful about labels)\n",
        "#####################################################################################\n",
        "# TODO\n",
        "X, y = shuffle(X, y, random_state=42)\n",
        "####################################################################################\n",
        "#                                   THE END                                        #\n",
        "####################################################################################\n",
        "end_time = time.time() \n",
        "print(f\"Cell execution time: {end_time - start_time:.2f} seconds\")"
      ]
    },
    {
      "cell_type": "code",
      "execution_count": 4,
      "metadata": {
        "colab": {
          "base_uri": "https://localhost:8080/"
        },
        "id": "dI-RnyahZuvL",
        "outputId": "0e47784a-11e7-4376-aff9-4c1cbc46ac84"
      },
      "outputs": [
        {
          "name": "stdout",
          "output_type": "stream",
          "text": [
            "###############################\n",
            "Number of examples is 253\n",
            "Image(X) shape: (253, 128, 128)\n",
            "Labels(y) shape: (253,)\n",
            "###############################\n"
          ]
        }
      ],
      "source": [
        "#####################################################################################\n",
        "#                          COMPLETE THE FOLLOWING SECTION                           #\n",
        "#####################################################################################\n",
        "#  show number of example and x , y size\n",
        "#####################################################################################\n",
        "# TODO\n",
        "print(\"###############################\")\n",
        "print(f'Number of examples is {len(X)}')   # 253   \n",
        "print(f\"Image(X) shape: {X.shape}\")        # (253, 128, 128)\n",
        "print(f\"Labels(y) shape: {y.shape}\")       # (253,)    \n",
        "print(\"###############################\")\n",
        "\n",
        "####################################################################################\n",
        "#                                   THE END                                        #\n",
        "####################################################################################"
      ]
    },
    {
      "cell_type": "code",
      "execution_count": 5,
      "metadata": {},
      "outputs": [
        {
          "name": "stdout",
          "output_type": "stream",
          "text": [
            "Image(X) shape: (253, 128, 128)\n",
            "Image(X) shape: (253, 16384)\n"
          ]
        }
      ],
      "source": [
        "print(f\"Image(X) shape: {X.shape}\") \n",
        "X = X.reshape(X.shape[0], -1)\n",
        "print(f\"Image(X) shape: {X.shape}\") "
      ]
    },
    {
      "cell_type": "markdown",
      "metadata": {
        "id": "g8aMZgxUaGe4"
      },
      "source": [
        "## Flatten"
      ]
    },
    {
      "cell_type": "markdown",
      "metadata": {
        "id": "0qTnEB-aaL2-"
      },
      "source": [
        "Reshape X so that each row represents one image or 128*128 pixels (2D data)"
      ]
    },
    {
      "cell_type": "code",
      "execution_count": 6,
      "metadata": {
        "colab": {
          "base_uri": "https://localhost:8080/"
        },
        "id": "EBDJ7MXlaF1n",
        "outputId": "ca43ab52-714f-458c-831b-ae81568bf525"
      },
      "outputs": [
        {
          "name": "stdout",
          "output_type": "stream",
          "text": [
            "Reshaped X shape (253, 16384)\n"
          ]
        }
      ],
      "source": [
        "#####################################################################################\n",
        "#                          COMPLETE THE FOLLOWING SECTION                           #\n",
        "#####################################################################################\n",
        "#  Reshape X to (number_of_example, number_of_all_pixels)\n",
        "#####################################################################################\n",
        "# TODO\n",
        "number_of_examples = len(X)\n",
        "number_of_all_pixels = IMG_HEIGHT * IMG_WIDTH\n",
        "X = X.reshape(number_of_examples, number_of_all_pixels)\n",
        "\n",
        "print(f'Reshaped X shape {X.shape}')      # (253, 16384)\n",
        "####################################################################################\n",
        "#                                   THE END                                        #\n",
        "####################################################################################"
      ]
    },
    {
      "cell_type": "markdown",
      "metadata": {
        "id": "L5lOJddJNG_b"
      },
      "source": [
        "## Split\n",
        "In this section, split dataset to train and test and you can use splitting function from sklearn."
      ]
    },
    {
      "cell_type": "code",
      "execution_count": 9,
      "metadata": {
        "colab": {
          "base_uri": "https://localhost:8080/"
        },
        "id": "o8VTVwMttDwv",
        "outputId": "c01753b8-398e-44b5-dbd2-e4443589425e"
      },
      "outputs": [
        {
          "name": "stdout",
          "output_type": "stream",
          "text": [
            "Training set size: (202, 16384)   ---  Testing set size: (51, 16384)\n",
            "Training label size: (202,)       ---  Testing label size: (51,)\n"
          ]
        }
      ],
      "source": [
        "\n",
        "#####################################################################################\n",
        "#                          COMPLETE THE FOLLOWING SECTION                           #\n",
        "#####################################################################################\n",
        "#  Split data to train and test (testsize = 0.2)\n",
        "#####################################################################################\n",
        "# TODO\n",
        "from sklearn.model_selection import train_test_split\n",
        "\n",
        "X_train, X_test, y_train, y_test = train_test_split(X, y, test_size=0.2, random_state=42)\n",
        "\n",
        "print(f\"Training set size: {X_train.shape}   ---  Testing set size: {X_test.shape}\")\n",
        "print(f\"Training label size: {y_train.shape}       ---  Testing label size: {y_test.shape}\")\n",
        "####################################################################################\n",
        "#                                   THE END                                        #\n",
        "####################################################################################\n"
      ]
    },
    {
      "cell_type": "markdown",
      "metadata": {
        "id": "KnU8yUyaNo-9"
      },
      "source": [
        "# PCA\n",
        "\n",
        "Implement PCA. Then use it to project the data to the latent space.  Note that you should implement the PCA, so using existing libraries is not allowed. you should use numpy to compute eigenvectors/eigenvalues or SVD of a matrix.\n",
        "\n",
        "It is highly recommended to use svd function from linalg instead of eig or eigh."
      ]
    },
    {
      "cell_type": "markdown",
      "metadata": {
        "id": "Fr5PSYwfVDtY"
      },
      "source": [
        "## Fit function"
      ]
    },
    {
      "cell_type": "code",
      "execution_count": 11,
      "metadata": {},
      "outputs": [],
      "source": [
        "def fit_PCA(X, n_components):\n",
        "    X_mean = np.mean(X, axis=0)\n",
        "    X_centered = X - X_mean\n",
        "    cov_mat = np.cov(X_centered, rowvar=False)\n",
        "    eigenvals, eigenvecs = np.linalg.eigh(cov_mat)\n",
        "    index = np.argsort(eigenvals)[::-1]\n",
        "    eigenvals = eigenvals[index]\n",
        "    eigenvecs = eigenvecs[index]\n",
        "    components = eigenvecs[:,:n_components]\n",
        "    \n",
        "    return components, X_mean \n",
        "    "
      ]
    },
    {
      "cell_type": "markdown",
      "metadata": {
        "id": "dq5-KSOwQTgu"
      },
      "source": [
        "We have 3 choices here:\n",
        "\n",
        "*   Fit the model with X and apply the dimensionality reduction on X_train and X_test.\n",
        "*   Fit the model with X_train and apply the dimensionality reduction on X_train and X_test.\n",
        "\n",
        "*   Fit and apply the dimensionality reduction on X_train separately from  X_test.\n",
        "\n",
        "\n",
        "Based on class lectures, choose of one these choices and explain why."
      ]
    },
    {
      "cell_type": "markdown",
      "metadata": {
        "id": "lTOJyQE9TJG8"
      },
      "source": [
        "**** your answer ****\n",
        "$\\\\$\n",
        "The best choice is to fit the model with `X_train` and apply the dimensionality reduction on both `X_train` and `X_test`. This approach ensures that the principal components are determined only using the training data, avoiding any information leakage from the test set during training. Information leakage can artificially inflate the model's performance, as it incorporates patterns from the test set into the training process. By fitting PCA on `X_train` and transforming both datasets consistently, we maintain the integrity of the test set as an unseen dataset, aligned with best practices for model evaluation."
      ]
    },
    {
      "cell_type": "markdown",
      "metadata": {
        "id": "NMHWWArMTU7m"
      },
      "source": [
        "Fill the bottom cell according to your choice. We have set the reduced dimension = 20.\n",
        "\n",
        "---\n",
        "\n"
      ]
    },
    {
      "cell_type": "code",
      "execution_count": 14,
      "metadata": {
        "colab": {
          "base_uri": "https://localhost:8080/"
        },
        "id": "t3uPjcy_TdUO",
        "outputId": "256e411f-f25a-4d0a-eddb-c9e59b34bdbc"
      },
      "outputs": [
        {
          "name": "stdout",
          "output_type": "stream",
          "text": [
            "X_train shape: (202, 20)\n",
            "X_test shape: (51, 20)\n",
            "Cell execution time: 306.04 seconds\n"
          ]
        }
      ],
      "source": [
        "start_time = time.time()\n",
        "n_components = 20\n",
        "X_train_red = None\n",
        "X_test_red = None\n",
        "#####################################################################################\n",
        "#                          COMPLETE THE FOLLOWING SECTION                           #\n",
        "#####################################################################################\n",
        "#  reduce the dimensions of X_train and X_test to 20\n",
        "#####################################################################################\n",
        "# TODO\n",
        "components, mean = fit_PCA(X_train, n_components)\n",
        "X_train_red = np.dot(X_train - mean, components)\n",
        "X_test_red = np.dot(X_test - mean, components)\n",
        "\n",
        "\n",
        "print(f'X_train shape: {X_train_red.shape}')  # (202, 20)\n",
        "print(f'X_test shape: {X_test_red.shape}')    # (51, 20)\n",
        "####################################################################################\n",
        "#                                   THE END                                        #\n",
        "####################################################################################\n",
        "end_time = time.time() \n",
        "print(f\"Cell execution time: {end_time - start_time:.2f} seconds\")"
      ]
    },
    {
      "cell_type": "markdown",
      "metadata": {
        "id": "aqpz-Iqzat3u"
      },
      "source": [
        "# Reconstruction"
      ]
    },
    {
      "cell_type": "code",
      "execution_count": 21,
      "metadata": {
        "colab": {
          "base_uri": "https://localhost:8080/",
          "height": 411
        },
        "id": "Ng_6meYBa4U_",
        "outputId": "08a6c02e-fcc3-4106-c575-b97457709bd3"
      },
      "outputs": [
        {
          "data": {
            "image/png": "[encoded data removed]",
            "text/plain": [
              "<Figure size 1000x500 with 2 Axes>"
            ]
          },
          "metadata": {},
          "output_type": "display_data"
        }
      ],
      "source": [
        "import matplotlib.pyplot as plt\n",
        "import random\n",
        "#####################################################################################\n",
        "#                          COMPLETE THE FOLLOWING SECTION                           #\n",
        "#####################################################################################\n",
        "#  Reconstruct One random row of X_train and reshape to (128,128) and plot it\n",
        "#  Then compare it to the original one\n",
        "#  It is better to use gray cmap for images\n",
        "#####################################################################################\n",
        "# TODO\n",
        "\n",
        "random_index = random.randint(0, X_train.shape[0] - 1)\n",
        "original_image = X_train[random_index].reshape(IMG_HEIGHT, IMG_WIDTH)  \n",
        "\n",
        "reconstructed_image = np.dot(X_train_red[random_index], components.T) + mean\n",
        "reconstructed_image = reconstructed_image.reshape(IMG_HEIGHT, IMG_WIDTH)  # Reshape\n",
        "\n",
        "# Plot the original and reconstructed images\n",
        "plt.figure(figsize=(10, 5))\n",
        "\n",
        "# Original image\n",
        "plt.subplot(1, 2, 1)\n",
        "plt.imshow(original_image, cmap='gray')\n",
        "plt.title('Original Image')\n",
        "plt.axis('off')\n",
        "\n",
        "# Reconstructed image\n",
        "plt.subplot(1, 2, 2)\n",
        "plt.imshow(reconstructed_image, cmap='gray')\n",
        "plt.title('Reconstructed Image')\n",
        "plt.axis('off')\n",
        "\n",
        "plt.tight_layout()\n",
        "plt.show()\n",
        "\n",
        "####################################################################################\n",
        "#                                   THE END                                        #\n",
        "####################################################################################\n"
      ]
    },
    {
      "cell_type": "markdown",
      "metadata": {
        "id": "gChILQ2kU_aW"
      },
      "source": [
        "# Classifier"
      ]
    },
    {
      "cell_type": "markdown",
      "metadata": {
        "id": "_78T25lLVS0G"
      },
      "source": [
        "In this section use Support Vector Machine (SVM) for predicting Tumor from features.\n",
        "\n",
        "\n",
        "Our purpose is comparing accuracy on test data before and after dimensionality reduction. Guess for yourself accuracy before and after PCA."
      ]
    },
    {
      "cell_type": "code",
      "execution_count": 15,
      "metadata": {
        "id": "5h5sLaEHVN0n"
      },
      "outputs": [],
      "source": [
        "from sklearn.svm import SVC\n",
        "from sklearn.metrics import accuracy_score\n",
        "model =  SVC(kernel='linear')"
      ]
    },
    {
      "cell_type": "markdown",
      "metadata": {
        "id": "u5yjmqJKVy6l"
      },
      "source": [
        "## Before dimensionality reduction"
      ]
    },
    {
      "cell_type": "code",
      "execution_count": 18,
      "metadata": {
        "colab": {
          "base_uri": "https://localhost:8080/"
        },
        "id": "AIzOz4bEuR9H",
        "outputId": "41bfc869-2a0f-4221-bc18-64ae722637e4"
      },
      "outputs": [
        {
          "name": "stdout",
          "output_type": "stream",
          "text": [
            "Accuracy before dimensionality reduction: 74.50980392156863\n",
            "Cell execution time: 0.53 seconds\n"
          ]
        }
      ],
      "source": [
        "from sklearn.svm import SVC\n",
        "from sklearn.metrics import accuracy_score\n",
        "\n",
        "before_accuracy = None\n",
        "#####################################################################################\n",
        "#                          COMPLETE THE FOLLOWING SECTION                           #\n",
        "#####################################################################################\n",
        "#  Train model on X_train and report accuracy on X_test\n",
        "#####################################################################################\n",
        "# TODO\n",
        "start_time = time.time()\n",
        "model.fit(X_train, y_train)\n",
        "y_pred_test = model.predict(X_test)\n",
        "acc_before = accuracy_score(y_test, y_pred_test)\n",
        "print(f'Accuracy before dimensionality reduction: {acc_before*100}')  #  0.7059\n",
        "####################################################################################\n",
        "#                                   THE END                                        #\n",
        "####################################################################################\n",
        "end_time = time.time() \n",
        "print(f\"Cell execution time: {end_time - start_time:.2f} seconds\")"
      ]
    },
    {
      "cell_type": "markdown",
      "metadata": {
        "id": "9R21edABYSFV"
      },
      "source": [
        "## After dimensionality reduction"
      ]
    },
    {
      "cell_type": "code",
      "execution_count": 19,
      "metadata": {
        "colab": {
          "base_uri": "https://localhost:8080/"
        },
        "id": "p3D8ppibYXAT",
        "outputId": "721c63be-f17c-4a4a-9113-2795e35cec6e"
      },
      "outputs": [
        {
          "name": "stdout",
          "output_type": "stream",
          "text": [
            "Accuracy after dimensionality reduction: 62.745098039215684\n",
            "Cell execution time: 4.79 seconds\n"
          ]
        }
      ],
      "source": [
        "after_accuracy = None\n",
        "#####################################################################################\n",
        "#                          COMPLETE THE FOLLOWING SECTION                           #\n",
        "#####################################################################################\n",
        "#  Train model on X_train_red and report accuracy on X_test_red\n",
        "#####################################################################################\n",
        "# TODO\n",
        "start_time = time.time()\n",
        "model.fit(X_train_red, y_train)\n",
        "y_pred_test = model.predict(X_test_red)\n",
        "acc_after = accuracy_score(y_test, y_pred_test)\n",
        "print(f'Accuracy after dimensionality reduction: {acc_after*100}')  # 0.6667\n",
        "####################################################################################\n",
        "#                                   THE END                                        #\n",
        "####################################################################################\n",
        "end_time = time.time() \n",
        "print(f\"Cell execution time: {end_time - start_time:.2f} seconds\")"
      ]
    },
    {
      "cell_type": "markdown",
      "metadata": {
        "id": "QQvhIZysYgxe"
      },
      "source": [
        "When you get better accuracy?\n",
        "\n",
        " Can you explain why?\n",
        "\n",
        " Does unsupervised dimensionality reduction always increase accuracy?\n"
      ]
    },
    {
      "cell_type": "markdown",
      "metadata": {
        "id": "xN2wfiRPY7Z6"
      },
      "source": [
        "**** your answer****\n",
        "\n",
        "You achieve better accuracy when the dimensionality reduction effectively captures the most relevant features of the data, reducing noise and redundant information while preserving key patterns that help the model distinguish between classes. This can happen when the original data has high-dimensional, correlated features that introduce complexity without adding meaningful information. However, unsupervised dimensionality reduction, like PCA, does not always increase accuracy. Since it doesn't consider the labels, it may discard features that are critical for distinguishing between classes, leading to a loss of useful information. The impact of dimensionality reduction on accuracy depends on the dataset's structure and the relationship between features and labels."
      ]
    },
    {
      "cell_type": "markdown",
      "metadata": {},
      "source": [
        "<font  size=5>\n",
        "GOOD LUCK"
      ]
    }
  ],
  "metadata": {
    "colab": {
      "provenance": []
    },
    "kernelspec": {
      "display_name": "base",
      "language": "python",
      "name": "python3"
    },
    "language_info": {
      "codemirror_mode": {
        "name": "ipython",
        "version": 3
      },
      "file_extension": ".py",
      "mimetype": "text/x-python",
      "name": "python",
      "nbconvert_exporter": "python",
      "pygments_lexer": "ipython3",
      "version": "3.12.3"
    }
  },
  "nbformat": 4,
  "nbformat_minor": 0
}
